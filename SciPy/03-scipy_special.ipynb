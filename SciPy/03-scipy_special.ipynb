{
  "nbformat": 4,
  "nbformat_minor": 0,
  "metadata": {
    "colab": {
      "provenance": []
    },
    "kernelspec": {
      "name": "python3",
      "display_name": "Python 3"
    },
    "language_info": {
      "name": "python"
    }
  },
  "cells": [
    {
      "cell_type": "markdown",
      "source": [
        "# SciPy Special Introduction"
      ],
      "metadata": {
        "id": "NHscIBfJqc9v"
      }
    },
    {
      "cell_type": "markdown",
      "source": [
        "`scipy.special` is a subpackage in the SciPy library that provides a wide range of special mathematical functions, such as the Airy, Bessel, and gamma functions. These functions are optimized for performance and can handle both scalar and array inputs, making them ideal for scientific and mathematical computing."
      ],
      "metadata": {
        "id": "YJaG-PpEoHMT"
      }
    },
    {
      "cell_type": "markdown",
      "source": [
        "# import Libraries"
      ],
      "metadata": {
        "id": "fgA-h2LeqYH_"
      }
    },
    {
      "cell_type": "code",
      "source": [
        "import  scipy.special as sp\n",
        "import numpy as np\n",
        "import matplotlib.pyplot as plt"
      ],
      "metadata": {
        "id": "dBJHQ6-CqmPi"
      },
      "execution_count": 30,
      "outputs": []
    },
    {
      "cell_type": "markdown",
      "source": [
        "# Data Creation"
      ],
      "metadata": {
        "id": "syn12aMmvZ5P"
      }
    },
    {
      "cell_type": "code",
      "source": [
        "arr = np.array([0, 0.25, 0.5, 0.75, 1])\n",
        "arr2 = np.array([1, 2, 3, 4, 5])\n",
        "arr.std()"
      ],
      "metadata": {
        "colab": {
          "base_uri": "https://localhost:8080/"
        },
        "id": "GwTFwhAeqtgI",
        "outputId": "ed229006-05c4-4f97-fdfc-6575c42c7383"
      },
      "execution_count": 33,
      "outputs": [
        {
          "output_type": "execute_result",
          "data": {
            "text/plain": [
              "np.float64(0.3535533905932738)"
            ]
          },
          "metadata": {},
          "execution_count": 33
        }
      ]
    },
    {
      "cell_type": "markdown",
      "source": [
        "# Calculate mean of normal distribution given other params."
      ],
      "metadata": {
        "id": "f9M9Y6QLq0KL"
      }
    },
    {
      "cell_type": "code",
      "source": [
        "sp.nrdtrimn(\n",
        "    arr,\n",
        "    arr.std(),\n",
        "    2,\n",
        ")"
      ],
      "metadata": {
        "colab": {
          "base_uri": "https://localhost:8080/"
        },
        "id": "93eub1Nsq9f2",
        "outputId": "eba2fb46-d4f4-42bd-dc2b-519f14505223"
      },
      "execution_count": 22,
      "outputs": [
        {
          "output_type": "execute_result",
          "data": {
            "text/plain": [
              "array([       nan, 2.23846814, 2.        , 1.76153186,        nan])"
            ]
          },
          "metadata": {},
          "execution_count": 22
        }
      ]
    },
    {
      "cell_type": "code",
      "source": [
        "sp.nrdtrisd(\n",
        "    arr,\n",
        "    arr.std(),\n",
        "    2,\n",
        ")"
      ],
      "metadata": {
        "colab": {
          "base_uri": "https://localhost:8080/"
        },
        "id": "EhEElMCprIAo",
        "outputId": "7c6a1eba-7d51-4e09-bb2c-738b4cfd484d"
      },
      "execution_count": 23,
      "outputs": [
        {
          "output_type": "execute_result",
          "data": {
            "text/plain": [
              "array([-5.32276452, -4.65741896, -3.99207339, -3.32672783, -2.66138226])"
            ]
          },
          "metadata": {},
          "execution_count": 23
        }
      ]
    },
    {
      "cell_type": "markdown",
      "source": [
        "# boxcox\n",
        "\n",
        "```python\n",
        "boxcox1p(x, lmbda, out=None) = <ufunc 'boxcox1p'>\n",
        "```\n",
        "Compute the Box-Cox transformation of 1 + x.\n",
        "The Box-Cox transformation computed by boxcox1p is:\n",
        "\n",
        "```python\n",
        "y = ((1+x)**lmbda - 1) / lmbda  if lmbda != 0\n",
        "    log(1+x)                    if lmbda == 0\n",
        "```"
      ],
      "metadata": {
        "id": "ZkRjy2aWsEHE"
      }
    },
    {
      "cell_type": "code",
      "source": [
        "sp.boxcox(arr, 2.5)"
      ],
      "metadata": {
        "colab": {
          "base_uri": "https://localhost:8080/"
        },
        "id": "M0EWiGs-sTfs",
        "outputId": "1ec79d81-55f9-4243-c8fe-d9902d3a3529"
      },
      "execution_count": 24,
      "outputs": [
        {
          "output_type": "execute_result",
          "data": {
            "text/plain": [
              "array([-0.4       , -0.3875    , -0.32928932, -0.20514428,  0.        ])"
            ]
          },
          "metadata": {},
          "execution_count": 24
        }
      ]
    },
    {
      "cell_type": "code",
      "source": [
        "sp.boxcox1p(arr, 2.5)"
      ],
      "metadata": {
        "colab": {
          "base_uri": "https://localhost:8080/"
        },
        "id": "yqyKjIkSs-LR",
        "outputId": "090cb9f4-7a05-462d-fef2-00dc0dac0451"
      },
      "execution_count": 25,
      "outputs": [
        {
          "output_type": "execute_result",
          "data": {
            "text/plain": [
              "array([0.        , 0.29877124, 0.70227038, 1.22052268, 1.8627417 ])"
            ]
          },
          "metadata": {},
          "execution_count": 25
        }
      ]
    },
    {
      "cell_type": "markdown",
      "source": [
        "# Sigmoidal functions"
      ],
      "metadata": {
        "id": "mS127rQbtF7X"
      }
    },
    {
      "cell_type": "code",
      "source": [
        "_logit = sp.logit(arr)\n",
        "_logit"
      ],
      "metadata": {
        "colab": {
          "base_uri": "https://localhost:8080/"
        },
        "id": "TK2LiLw3taks",
        "outputId": "ff077787-3551-47ee-c969-118ab830cc69"
      },
      "execution_count": 28,
      "outputs": [
        {
          "output_type": "execute_result",
          "data": {
            "text/plain": [
              "array([       -inf, -1.09861229,  0.        ,  1.09861229,         inf])"
            ]
          },
          "metadata": {},
          "execution_count": 28
        }
      ]
    },
    {
      "cell_type": "code",
      "source": [
        "sp.expit(_logit)"
      ],
      "metadata": {
        "colab": {
          "base_uri": "https://localhost:8080/"
        },
        "id": "NoNsPfFCteuP",
        "outputId": "64b3d70e-425e-49ec-eed5-1b54b388b909"
      },
      "execution_count": 29,
      "outputs": [
        {
          "output_type": "execute_result",
          "data": {
            "text/plain": [
              "array([0.  , 0.25, 0.5 , 0.75, 1.  ])"
            ]
          },
          "metadata": {},
          "execution_count": 29
        }
      ]
    },
    {
      "cell_type": "code",
      "source": [
        "x = np.linspace(0, 1, 501)\n",
        "y = sp.logit(x)\n",
        "plt.plot(x, y)\n",
        "plt.grid()\n",
        "plt.ylim(-6, 6)\n",
        "plt.xlabel('x')\n",
        "plt.title('logit(x)')\n",
        "plt.show()"
      ],
      "metadata": {
        "colab": {
          "base_uri": "https://localhost:8080/",
          "height": 472
        },
        "id": "j1iV0G9JuK4O",
        "outputId": "be7236e8-484d-4b0d-d9ab-4f8dfc388074"
      },
      "execution_count": 31,
      "outputs": [
        {
          "output_type": "display_data",
          "data": {
            "text/plain": [
              "<Figure size 640x480 with 1 Axes>"
            ],
            "image/png": "[encoded data removed]"
          },
          "metadata": {}
        }
      ]
    },
    {
      "cell_type": "markdown",
      "source": [
        "# special functions"
      ],
      "metadata": {
        "id": "tPWNUnBmuawA"
      }
    },
    {
      "cell_type": "markdown",
      "source": [
        "## Factorial"
      ],
      "metadata": {
        "id": "sGpgbRfZvHwZ"
      }
    },
    {
      "cell_type": "code",
      "source": [
        "sp.factorial(arr2, exact=True)"
      ],
      "metadata": {
        "colab": {
          "base_uri": "https://localhost:8080/"
        },
        "id": "MmFf_9uQvQpA",
        "outputId": "5b96a492-b0c6-446a-a682-048a2f3f3c4f"
      },
      "execution_count": 35,
      "outputs": [
        {
          "output_type": "execute_result",
          "data": {
            "text/plain": [
              "array([  1,   2,   6,  24, 120])"
            ]
          },
          "metadata": {},
          "execution_count": 35
        }
      ]
    },
    {
      "cell_type": "markdown",
      "source": [
        "## Softmax"
      ],
      "metadata": {
        "id": "VhV-6J9jvVKO"
      }
    },
    {
      "cell_type": "code",
      "source": [
        "sp.softmax(arr2)"
      ],
      "metadata": {
        "colab": {
          "base_uri": "https://localhost:8080/"
        },
        "id": "g8Vv7-NZvphZ",
        "outputId": "bbb91a93-108a-4b81-afdf-234b83456c16"
      },
      "execution_count": 36,
      "outputs": [
        {
          "output_type": "execute_result",
          "data": {
            "text/plain": [
              "array([0.01165623, 0.03168492, 0.08612854, 0.23412166, 0.63640865])"
            ]
          },
          "metadata": {},
          "execution_count": 36
        }
      ]
    },
    {
      "cell_type": "markdown",
      "source": [
        "## Exponential"
      ],
      "metadata": {
        "id": "EPrtecEqvsBV"
      }
    },
    {
      "cell_type": "code",
      "source": [
        "sp.exp10(3)"
      ],
      "metadata": {
        "colab": {
          "base_uri": "https://localhost:8080/"
        },
        "id": "btKBLOZXvykP",
        "outputId": "53430d4d-f11d-4533-ee12-39efe4b479b7"
      },
      "execution_count": 38,
      "outputs": [
        {
          "output_type": "execute_result",
          "data": {
            "text/plain": [
              "np.float64(1000.0)"
            ]
          },
          "metadata": {},
          "execution_count": 38
        }
      ]
    },
    {
      "cell_type": "markdown",
      "source": [
        "## Cube Root"
      ],
      "metadata": {
        "id": "VJRlmiAYv0pL"
      }
    },
    {
      "cell_type": "code",
      "source": [
        "sp.cbrt(np.array([125, 64]))"
      ],
      "metadata": {
        "colab": {
          "base_uri": "https://localhost:8080/"
        },
        "id": "LtLbKhVGwTTE",
        "outputId": "e66a3e30-01c3-41df-aa34-7d1a6a15a753"
      },
      "execution_count": 43,
      "outputs": [
        {
          "output_type": "execute_result",
          "data": {
            "text/plain": [
              "array([5., 4.])"
            ]
          },
          "metadata": {},
          "execution_count": 43
        }
      ]
    },
    {
      "cell_type": "markdown",
      "source": [
        "## Combination"
      ],
      "metadata": {
        "id": "-xDUgrDqwf7E"
      }
    },
    {
      "cell_type": "code",
      "source": [
        "sp.comb(10, 2, exact=True)"
      ],
      "metadata": {
        "colab": {
          "base_uri": "https://localhost:8080/"
        },
        "id": "NkTMEkcjwns-",
        "outputId": "12b4279b-7311-4d81-d1f5-39596b000f7c"
      },
      "execution_count": 44,
      "outputs": [
        {
          "output_type": "execute_result",
          "data": {
            "text/plain": [
              "45"
            ]
          },
          "metadata": {},
          "execution_count": 44
        }
      ]
    },
    {
      "cell_type": "markdown",
      "source": [
        "## Factorial(n-1) `gamma()`\n",
        "`gamma()` function is a generalization of the factorial function. For natural numbers, it behaves like a `factorial`:"
      ],
      "metadata": {
        "id": "tncLajgWwpsl"
      }
    },
    {
      "cell_type": "code",
      "source": [
        "sp.gamma(6)"
      ],
      "metadata": {
        "colab": {
          "base_uri": "https://localhost:8080/"
        },
        "id": "wvazi05zw5zC",
        "outputId": "de17c5d7-c568-43cd-efe1-2ea64d5c70cc"
      },
      "execution_count": 46,
      "outputs": [
        {
          "output_type": "execute_result",
          "data": {
            "text/plain": [
              "np.float64(120.0)"
            ]
          },
          "metadata": {},
          "execution_count": 46
        }
      ]
    },
    {
      "cell_type": "markdown",
      "source": [
        "## Permutation `perm()`\n",
        "perm() function calculates number of permutations of k items chosen from N items. It consider order of selection."
      ],
      "metadata": {
        "id": "N_XGHS2pw-_p"
      }
    },
    {
      "cell_type": "code",
      "source": [
        "sp.perm(10, 5)"
      ],
      "metadata": {
        "colab": {
          "base_uri": "https://localhost:8080/"
        },
        "id": "YC_CaudsxSFD",
        "outputId": "b6e7c47e-9dc1-4d62-8184-f65cc460e07c"
      },
      "execution_count": 48,
      "outputs": [
        {
          "output_type": "execute_result",
          "data": {
            "text/plain": [
              "np.float64(30240.0)"
            ]
          },
          "metadata": {},
          "execution_count": 48
        }
      ]
    },
    {
      "cell_type": "code",
      "source": [],
      "metadata": {
        "id": "Rs6RpPS-xVfi"
      },
      "execution_count": null,
      "outputs": []
    }
  ]
}