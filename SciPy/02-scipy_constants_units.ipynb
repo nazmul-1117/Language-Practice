{
  "nbformat": 4,
  "nbformat_minor": 0,
  "metadata": {
    "colab": {
      "provenance": [],
      "toc_visible": true
    },
    "kernelspec": {
      "name": "python3",
      "display_name": "Python 3"
    },
    "language_info": {
      "name": "python"
    }
  },
  "cells": [
    {
      "cell_type": "markdown",
      "source": [
        "# Constants in SciPy\n",
        "- As SciPy is more focused on scientific implementations, it provides many built-in scientific constants.\n",
        "\n",
        "- These constants can be helpful when you are working with Data Science."
      ],
      "metadata": {
        "id": "52wmvmuFDDFc"
      }
    },
    {
      "cell_type": "markdown",
      "source": [
        "# Import Library"
      ],
      "metadata": {
        "id": "k7E2vPt7Wt4x"
      }
    },
    {
      "cell_type": "code",
      "source": [
        "import scipy.constants as const\n",
        "import numpy as np"
      ],
      "metadata": {
        "id": "tsPCwYPJQQW4"
      },
      "execution_count": null,
      "outputs": []
    },
    {
      "cell_type": "markdown",
      "source": [
        "# Unit"
      ],
      "metadata": {
        "id": "s27glFpCTww4"
      }
    },
    {
      "cell_type": "code",
      "source": [
        "const.unit('electron volt')"
      ],
      "metadata": {
        "colab": {
          "base_uri": "https://localhost:8080/",
          "height": 35
        },
        "id": "ZU3UrH6CTy4p",
        "outputId": "082cdbb6-465c-4834-ff45-cdbe31a2f5e5"
      },
      "execution_count": null,
      "outputs": [
        {
          "output_type": "execute_result",
          "data": {
            "text/plain": [
              "'J'"
            ],
            "application/vnd.google.colaboratory.intrinsic+json": {
              "type": "string"
            }
          },
          "metadata": {},
          "execution_count": 36
        }
      ]
    },
    {
      "cell_type": "markdown",
      "source": [
        "# Value"
      ],
      "metadata": {
        "id": "RTwkdc1tUT3J"
      }
    },
    {
      "cell_type": "code",
      "source": [
        "const.value('electron volt')"
      ],
      "metadata": {
        "colab": {
          "base_uri": "https://localhost:8080/"
        },
        "id": "k2S_pODJUWvx",
        "outputId": "8f1903e6-8c73-4f6c-9303-69d5ca2f21d1"
      },
      "execution_count": null,
      "outputs": [
        {
          "output_type": "execute_result",
          "data": {
            "text/plain": [
              "1.602176634e-19"
            ]
          },
          "metadata": {},
          "execution_count": 40
        }
      ]
    },
    {
      "cell_type": "markdown",
      "source": [
        "# Precision"
      ],
      "metadata": {
        "id": "FzoNOzVNUWsz"
      }
    },
    {
      "cell_type": "code",
      "source": [
        "const.precision('alpha particle mass')"
      ],
      "metadata": {
        "colab": {
          "base_uri": "https://localhost:8080/"
        },
        "id": "cQDTD9WFUWpw",
        "outputId": "733afa9e-2123-40db-d336-c072e6a815a0"
      },
      "execution_count": null,
      "outputs": [
        {
          "output_type": "execute_result",
          "data": {
            "text/plain": [
              "3.1604338507842195e-10"
            ]
          },
          "metadata": {},
          "execution_count": 42
        }
      ]
    },
    {
      "cell_type": "markdown",
      "source": [
        "# Find"
      ],
      "metadata": {
        "id": "jsZWgLQ8VEVg"
      }
    },
    {
      "cell_type": "code",
      "source": [
        "const.find('electron volt')"
      ],
      "metadata": {
        "colab": {
          "base_uri": "https://localhost:8080/"
        },
        "id": "YTG8wPRmVERI",
        "outputId": "2f79f657-95da-444b-8018-eacb7f9b4402"
      },
      "execution_count": null,
      "outputs": [
        {
          "output_type": "execute_result",
          "data": {
            "text/plain": [
              "['atomic mass unit-electron volt relationship',\n",
              " 'electron volt',\n",
              " 'electron volt-atomic mass unit relationship',\n",
              " 'electron volt-hartree relationship',\n",
              " 'electron volt-hertz relationship',\n",
              " 'electron volt-inverse meter relationship',\n",
              " 'electron volt-joule relationship',\n",
              " 'electron volt-kelvin relationship',\n",
              " 'electron volt-kilogram relationship',\n",
              " 'hartree-electron volt relationship',\n",
              " 'hertz-electron volt relationship',\n",
              " 'inverse meter-electron volt relationship',\n",
              " 'joule-electron volt relationship',\n",
              " 'kelvin-electron volt relationship',\n",
              " 'kilogram-electron volt relationship']"
            ]
          },
          "metadata": {},
          "execution_count": 43
        }
      ]
    },
    {
      "cell_type": "code",
      "source": [],
      "metadata": {
        "id": "BDRXYEQaVEJp"
      },
      "execution_count": null,
      "outputs": []
    },
    {
      "cell_type": "markdown",
      "source": [
        "# Mathematical constants\n",
        "Physical and mathematical constants and units."
      ],
      "metadata": {
        "id": "P4ctse5oQGY7"
      }
    },
    {
      "cell_type": "code",
      "source": [
        "print(const.pi)\n",
        "print(const.golden)\n",
        "print(const.golden_ratio)"
      ],
      "metadata": {
        "colab": {
          "base_uri": "https://localhost:8080/"
        },
        "id": "lGU8CT4bQGVZ",
        "outputId": "d99b34e4-ebb6-4094-d731-f26d293a7e0c"
      },
      "execution_count": null,
      "outputs": [
        {
          "output_type": "stream",
          "name": "stdout",
          "text": [
            "3.141592653589793\n",
            "1.618033988749895\n",
            "1.618033988749895\n"
          ]
        }
      ]
    },
    {
      "cell_type": "markdown",
      "source": [
        "# Physical Constants\n",
        "The following physical constants are available as attributes of [scipy.constants](https://docs.scipy.org/doc/scipy/reference/constants.html#module-scipy.constants). All units are `SI`."
      ],
      "metadata": {
        "id": "dKec4AnzQGQo"
      }
    },
    {
      "cell_type": "markdown",
      "source": [
        "---\n",
        "\n",
        "## ⚛️ Fundamental Physical Constants\n",
        "\n",
        "| **Attribute**            | **Quantity / Description**                | **Units**   |\n",
        "| ------------------------ | ----------------------------------------- | ----------- |\n",
        "| `c`                      | speed of light in vacuum                  | m s⁻¹       |\n",
        "| `speed_of_light`         | speed of light in vacuum                  | m s⁻¹       |\n",
        "| `mu_0`                   | magnetic constant                         | N A⁻²       |\n",
        "| `epsilon_0`              | electric constant (vacuum permittivity)   | F m⁻¹       |\n",
        "| `h`                      | Planck constant                           | J Hz⁻¹      |\n",
        "| `Planck`                 | Planck constant                           | J Hz⁻¹      |\n",
        "| `hbar`                   | reduced Planck constant                   | J s         |\n",
        "| `G`                      | Newtonian constant of gravitation         | m³ kg⁻¹ s⁻² |\n",
        "| `gravitational_constant` | Newtonian constant of gravitation         | m³ kg⁻¹ s⁻² |\n",
        "| `g`                      | standard acceleration of gravity          | m s⁻²       |\n",
        "| `e`                      | elementary charge                         | C           |\n",
        "| `elementary_charge`      | elementary charge                         | C           |\n",
        "| `R`                      | molar gas constant                        | J mol⁻¹ K⁻¹ |\n",
        "| `gas_constant`           | molar gas constant                        | J mol⁻¹ K⁻¹ |\n",
        "| `alpha`                  | fine-structure constant                   | (unitless)  |\n",
        "| `fine_structure`         | fine-structure constant                   | (unitless)  |\n",
        "| `N_A`                    | Avogadro constant                         | mol⁻¹       |\n",
        "| `Avogadro`               | Avogadro constant                         | mol⁻¹       |\n",
        "| `k`                      | Boltzmann constant                        | J K⁻¹       |\n",
        "| `Boltzmann`              | Boltzmann constant                        | J K⁻¹       |\n",
        "| `sigma`                  | Stefan–Boltzmann constant                 | W m⁻² K⁻⁴   |\n",
        "| `Stefan_Boltzmann`       | Stefan–Boltzmann constant                 | W m⁻² K⁻⁴   |\n",
        "| `Wien`                   | Wien wavelength displacement law constant | m K         |\n",
        "| `Rydberg`                | Rydberg constant                          | m⁻¹         |\n",
        "| `m_e`                    | electron mass                             | kg          |\n",
        "| `electron_mass`          | electron mass                             | kg          |\n",
        "| `m_p`                    | proton mass                               | kg          |\n",
        "| `proton_mass`            | proton mass                               | kg          |\n",
        "| `m_n`                    | neutron mass                              | kg          |\n",
        "| `neutron_mass`           | neutron mass                              | kg          |\n",
        "\n",
        "---\n"
      ],
      "metadata": {
        "id": "YcwAgdKpQGMQ"
      }
    },
    {
      "cell_type": "code",
      "source": [
        "print(const.c)\n",
        "print(const.speed_of_light)\n",
        "print(const.mu_0)\n",
        "print(const.epsilon_0)\n",
        "print(const.Planck)\n",
        "print(const.hbar)\n",
        "print(const.G)\n",
        "print(const.g)\n",
        "print(const.sigma)"
      ],
      "metadata": {
        "colab": {
          "base_uri": "https://localhost:8080/"
        },
        "id": "rAfRAqs7QGGZ",
        "outputId": "205f47db-a640-49ff-dc14-0bfcc247d475"
      },
      "execution_count": null,
      "outputs": [
        {
          "output_type": "stream",
          "name": "stdout",
          "text": [
            "299792458.0\n",
            "299792458.0\n",
            "1.25663706127e-06\n",
            "8.8541878188e-12\n",
            "6.62607015e-34\n",
            "1.0545718176461565e-34\n",
            "6.6743e-11\n",
            "9.80665\n",
            "5.6703744191844314e-08\n"
          ]
        }
      ]
    },
    {
      "cell_type": "markdown",
      "source": [
        "# Constant Units\n",
        "A list of all units under the constants module can be seen using the `dir()` function"
      ],
      "metadata": {
        "id": "9pSPKZKzCjkT"
      }
    },
    {
      "cell_type": "markdown",
      "source": [
        "# Unit Categories\n",
        "The units are placed under these categories:\n",
        "\n",
        "- Metric\n",
        "- Binary\n",
        "- Mass\n",
        "- Angle\n",
        "- Time\n",
        "- Length\n",
        "- Pressure\n",
        "- Volume\n",
        "- Speed\n",
        "- Temperature\n",
        "- Energy\n",
        "- Power\n",
        "- Force"
      ],
      "metadata": {
        "id": "H7sivSXiDWys"
      }
    },
    {
      "cell_type": "code",
      "source": [
        "dir(const)"
      ],
      "metadata": {
        "colab": {
          "base_uri": "https://localhost:8080/"
        },
        "id": "yxVJQ2Z0EbGF",
        "outputId": "be6ef7d6-db7d-4a14-a76a-b3dead8ee74d"
      },
      "execution_count": null,
      "outputs": [
        {
          "output_type": "execute_result",
          "data": {
            "text/plain": [
              "['Avogadro',\n",
              " 'Boltzmann',\n",
              " 'Btu',\n",
              " 'Btu_IT',\n",
              " 'Btu_th',\n",
              " 'ConstantWarning',\n",
              " 'G',\n",
              " 'Julian_year',\n",
              " 'N_A',\n",
              " 'Planck',\n",
              " 'R',\n",
              " 'Rydberg',\n",
              " 'Stefan_Boltzmann',\n",
              " 'Wien',\n",
              " '__all__',\n",
              " '__builtins__',\n",
              " '__cached__',\n",
              " '__doc__',\n",
              " '__file__',\n",
              " '__loader__',\n",
              " '__name__',\n",
              " '__package__',\n",
              " '__path__',\n",
              " '__spec__',\n",
              " '_codata',\n",
              " '_constants',\n",
              " '_obsolete_constants',\n",
              " 'acre',\n",
              " 'alpha',\n",
              " 'angstrom',\n",
              " 'arcmin',\n",
              " 'arcminute',\n",
              " 'arcsec',\n",
              " 'arcsecond',\n",
              " 'astronomical_unit',\n",
              " 'atm',\n",
              " 'atmosphere',\n",
              " 'atomic_mass',\n",
              " 'atto',\n",
              " 'au',\n",
              " 'bar',\n",
              " 'barrel',\n",
              " 'bbl',\n",
              " 'blob',\n",
              " 'c',\n",
              " 'calorie',\n",
              " 'calorie_IT',\n",
              " 'calorie_th',\n",
              " 'carat',\n",
              " 'centi',\n",
              " 'codata',\n",
              " 'constants',\n",
              " 'convert_temperature',\n",
              " 'day',\n",
              " 'deci',\n",
              " 'degree',\n",
              " 'degree_Fahrenheit',\n",
              " 'deka',\n",
              " 'dyn',\n",
              " 'dyne',\n",
              " 'e',\n",
              " 'eV',\n",
              " 'electron_mass',\n",
              " 'electron_volt',\n",
              " 'elementary_charge',\n",
              " 'epsilon_0',\n",
              " 'erg',\n",
              " 'exa',\n",
              " 'exbi',\n",
              " 'femto',\n",
              " 'fermi',\n",
              " 'find',\n",
              " 'fine_structure',\n",
              " 'fluid_ounce',\n",
              " 'fluid_ounce_US',\n",
              " 'fluid_ounce_imp',\n",
              " 'foot',\n",
              " 'g',\n",
              " 'gallon',\n",
              " 'gallon_US',\n",
              " 'gallon_imp',\n",
              " 'gas_constant',\n",
              " 'gibi',\n",
              " 'giga',\n",
              " 'golden',\n",
              " 'golden_ratio',\n",
              " 'grain',\n",
              " 'gram',\n",
              " 'gravitational_constant',\n",
              " 'h',\n",
              " 'hbar',\n",
              " 'hectare',\n",
              " 'hecto',\n",
              " 'horsepower',\n",
              " 'hour',\n",
              " 'hp',\n",
              " 'inch',\n",
              " 'k',\n",
              " 'kgf',\n",
              " 'kibi',\n",
              " 'kilo',\n",
              " 'kilogram_force',\n",
              " 'kmh',\n",
              " 'knot',\n",
              " 'lambda2nu',\n",
              " 'lb',\n",
              " 'lbf',\n",
              " 'light_year',\n",
              " 'liter',\n",
              " 'litre',\n",
              " 'long_ton',\n",
              " 'm_e',\n",
              " 'm_n',\n",
              " 'm_p',\n",
              " 'm_u',\n",
              " 'mach',\n",
              " 'mebi',\n",
              " 'mega',\n",
              " 'metric_ton',\n",
              " 'micro',\n",
              " 'micron',\n",
              " 'mil',\n",
              " 'mile',\n",
              " 'milli',\n",
              " 'minute',\n",
              " 'mmHg',\n",
              " 'mph',\n",
              " 'mu_0',\n",
              " 'nano',\n",
              " 'nautical_mile',\n",
              " 'neutron_mass',\n",
              " 'nu2lambda',\n",
              " 'ounce',\n",
              " 'oz',\n",
              " 'parsec',\n",
              " 'pebi',\n",
              " 'peta',\n",
              " 'physical_constants',\n",
              " 'pi',\n",
              " 'pico',\n",
              " 'point',\n",
              " 'pound',\n",
              " 'pound_force',\n",
              " 'precision',\n",
              " 'proton_mass',\n",
              " 'psi',\n",
              " 'pt',\n",
              " 'quecto',\n",
              " 'quetta',\n",
              " 'ronna',\n",
              " 'ronto',\n",
              " 'short_ton',\n",
              " 'sigma',\n",
              " 'slinch',\n",
              " 'slug',\n",
              " 'speed_of_light',\n",
              " 'speed_of_sound',\n",
              " 'stone',\n",
              " 'survey_foot',\n",
              " 'survey_mile',\n",
              " 'tebi',\n",
              " 'tera',\n",
              " 'test',\n",
              " 'ton_TNT',\n",
              " 'torr',\n",
              " 'troy_ounce',\n",
              " 'troy_pound',\n",
              " 'u',\n",
              " 'unit',\n",
              " 'value',\n",
              " 'week',\n",
              " 'yard',\n",
              " 'year',\n",
              " 'yobi',\n",
              " 'yocto',\n",
              " 'yotta',\n",
              " 'zebi',\n",
              " 'zepto',\n",
              " 'zero_Celsius',\n",
              " 'zetta']"
            ]
          },
          "metadata": {},
          "execution_count": 2
        }
      ]
    },
    {
      "cell_type": "markdown",
      "source": [
        "# Metrics\n",
        "\n",
        "Return the specified unit in `meter` (e.g. centi returns 0.01)"
      ],
      "metadata": {
        "id": "VIkDOpkxEXxQ"
      }
    },
    {
      "cell_type": "code",
      "source": [
        "# print(dir(const.zetta))\n",
        "print(const.quetta)\n",
        "print(const.ronna)\n",
        "print(const.yotta)\n",
        "print(const.zetta)\n",
        "print(const.peta)\n",
        "print(const.tera)\n",
        "print(const.giga)\n",
        "print(const.mega)\n",
        "print(const.kilo)\n",
        "print(const.hecto)\n",
        "print(const.deka)\n",
        "print(const.deci)\n",
        "print(const.centi)\n",
        "print(const.milli)\n",
        "print(const.micro)\n",
        "print(const.nano)\n",
        "print(const.pico)\n",
        "print(const.femto)\n",
        "print(const.atto)\n",
        "print(const.zepto)\n",
        "print(const.yocto)\n",
        "print(const.ronto)\n",
        "print(const.quecto)"
      ],
      "metadata": {
        "colab": {
          "base_uri": "https://localhost:8080/"
        },
        "id": "PH4M9iVcEpHc",
        "outputId": "57f38efd-7fc0-47f7-8606-d47de79cd4aa"
      },
      "execution_count": null,
      "outputs": [
        {
          "output_type": "stream",
          "name": "stdout",
          "text": [
            "1e+30\n",
            "1e+27\n",
            "1e+24\n",
            "1e+21\n",
            "1000000000000000.0\n",
            "1000000000000.0\n",
            "1000000000.0\n",
            "1000000.0\n",
            "1000.0\n",
            "100.0\n",
            "10.0\n",
            "0.1\n",
            "0.01\n",
            "0.001\n",
            "1e-06\n",
            "1e-09\n",
            "1e-12\n",
            "1e-15\n",
            "1e-18\n",
            "1e-21\n",
            "1e-24\n",
            "1e-27\n",
            "1e-30\n"
          ]
        }
      ]
    },
    {
      "cell_type": "markdown",
      "source": [
        "# Binary\n",
        "Return the specified unit in `bytes` (e.g. kibi returns 1024)"
      ],
      "metadata": {
        "id": "4PTMuf86GTZI"
      }
    },
    {
      "cell_type": "code",
      "source": [
        "print(const.kibi)\n",
        "print(const.mebi)\n",
        "print(const.gibi)\n",
        "print(const.tebi)\n",
        "print(const.pebi)\n",
        "print(const.exbi)\n",
        "print(const.zebi)\n",
        "print(const.yobi)"
      ],
      "metadata": {
        "colab": {
          "base_uri": "https://localhost:8080/"
        },
        "id": "wpEqa4FmGp9q",
        "outputId": "8116ae8a-42d3-4e7b-d1e4-342ac11c217f"
      },
      "execution_count": null,
      "outputs": [
        {
          "output_type": "stream",
          "name": "stdout",
          "text": [
            "1024\n",
            "1048576\n",
            "1073741824\n",
            "1099511627776\n",
            "1125899906842624\n",
            "1152921504606846976\n",
            "1180591620717411303424\n",
            "1208925819614629174706176\n"
          ]
        }
      ]
    },
    {
      "cell_type": "markdown",
      "source": [
        "# Mas\n",
        "\n",
        "Return the specified unit in `kg` (e.g. gram returns 0.001)"
      ],
      "metadata": {
        "id": "VV494YptGuUD"
      }
    },
    {
      "cell_type": "code",
      "source": [
        "print(const.gram)\n",
        "print(const.metric_ton)\n",
        "print(const.grain)\n",
        "print(const.lb)\n",
        "print(const.oz)\n",
        "print(const.ounce)\n",
        "print(const.stone)\n",
        "print(const.long_ton)\n",
        "print(const.short_ton)\n",
        "print(const.troy_ounce)\n",
        "print(const.troy_pound)\n",
        "print(const.carat)\n",
        "print(const.atomic_mass)\n",
        "print(const.m_u)\n",
        "print(const.u)"
      ],
      "metadata": {
        "colab": {
          "base_uri": "https://localhost:8080/"
        },
        "id": "W7E1ykODG5qI",
        "outputId": "41b0f484-b72f-4853-b85d-7c908daa4b3a"
      },
      "execution_count": null,
      "outputs": [
        {
          "output_type": "stream",
          "name": "stdout",
          "text": [
            "0.001\n",
            "1000.0\n",
            "6.479891e-05\n",
            "0.45359236999999997\n",
            "0.028349523124999998\n",
            "0.028349523124999998\n",
            "6.3502931799999995\n",
            "1016.0469088\n",
            "907.1847399999999\n",
            "0.031103476799999998\n",
            "0.37324172159999996\n",
            "0.0002\n",
            "1.66053906892e-27\n",
            "1.66053906892e-27\n",
            "1.66053906892e-27\n"
          ]
        }
      ]
    },
    {
      "cell_type": "markdown",
      "source": [
        "# Angle\n",
        "\n",
        "Return the specified unit in `radians` (e.g. degree returns 0.017453292519943295)"
      ],
      "metadata": {
        "id": "q-AXUjamG9tS"
      }
    },
    {
      "cell_type": "code",
      "source": [
        "print(const.degree)\n",
        "print(const.arcmin)\n",
        "print(const.arcminute)\n",
        "print(const.arcsec)\n",
        "print(const.arcsecond)"
      ],
      "metadata": {
        "colab": {
          "base_uri": "https://localhost:8080/"
        },
        "id": "IVRlbESLHWbN",
        "outputId": "527486b2-83ec-4b69-e497-1a993a0a6e60"
      },
      "execution_count": null,
      "outputs": [
        {
          "output_type": "stream",
          "name": "stdout",
          "text": [
            "0.017453292519943295\n",
            "0.0002908882086657216\n",
            "0.0002908882086657216\n",
            "4.84813681109536e-06\n",
            "4.84813681109536e-06\n"
          ]
        }
      ]
    },
    {
      "cell_type": "markdown",
      "source": [
        "# Pressure:\n",
        "Return the specified unit in `pascals` (e.g. psi returns 6894.757293168361)"
      ],
      "metadata": {
        "id": "ezCUKJoXHb4A"
      }
    },
    {
      "cell_type": "code",
      "source": [
        "print(const.atm)\n",
        "print(const.atmosphere)\n",
        "print(const.bar)\n",
        "print(const.torr)\n",
        "print(const.mmHg)\n",
        "print(const.psi)"
      ],
      "metadata": {
        "colab": {
          "base_uri": "https://localhost:8080/"
        },
        "id": "IuVtA_x7IuCF",
        "outputId": "790671c9-c866-47be-bb8c-849e3fecd527"
      },
      "execution_count": null,
      "outputs": [
        {
          "output_type": "stream",
          "name": "stdout",
          "text": [
            "101325.0\n",
            "101325.0\n",
            "100000.0\n",
            "133.32236842105263\n",
            "133.32236842105263\n",
            "6894.757293168361\n"
          ]
        }
      ]
    },
    {
      "cell_type": "markdown",
      "source": [
        "# Area:\n",
        "Return the specified unit in `square meters`(e.g. hectare returns 10000.0)"
      ],
      "metadata": {
        "id": "svdQMx3cJFBC"
      }
    },
    {
      "cell_type": "code",
      "source": [
        "print(const.hectare)\n",
        "print(const.acre)"
      ],
      "metadata": {
        "colab": {
          "base_uri": "https://localhost:8080/"
        },
        "id": "cUAWJjO2JRb5",
        "outputId": "651691e4-46cc-4b71-e881-e999f3393340"
      },
      "execution_count": null,
      "outputs": [
        {
          "output_type": "stream",
          "name": "stdout",
          "text": [
            "10000.0\n",
            "4046.8564223999992\n"
          ]
        }
      ]
    },
    {
      "cell_type": "markdown",
      "source": [
        "# Volume:\n",
        "Return the specified unit in `cubic meters` (e.g. liter returns 0.001)"
      ],
      "metadata": {
        "id": "sZPDOtl-JW4I"
      }
    },
    {
      "cell_type": "code",
      "source": [
        "print(const.liter)\n",
        "print(const.litre)\n",
        "print(const.gallon)\n",
        "print(const.gallon_US)\n",
        "print(const.gallon_imp)\n",
        "print(const.fluid_ounce)\n",
        "print(const.fluid_ounce_US)\n",
        "print(const.fluid_ounce_imp)\n",
        "print(const.barrel)\n",
        "print(const.bbl)"
      ],
      "metadata": {
        "colab": {
          "base_uri": "https://localhost:8080/"
        },
        "id": "gbarAxZxJc-z",
        "outputId": "00ca2492-6f27-4055-b932-317d3328c3e9"
      },
      "execution_count": null,
      "outputs": [
        {
          "output_type": "stream",
          "name": "stdout",
          "text": [
            "0.001\n",
            "0.001\n",
            "0.0037854117839999997\n",
            "0.0037854117839999997\n",
            "0.00454609\n",
            "2.9573529562499998e-05\n",
            "2.9573529562499998e-05\n",
            "2.84130625e-05\n",
            "0.15898729492799998\n",
            "0.15898729492799998\n"
          ]
        }
      ]
    },
    {
      "cell_type": "markdown",
      "source": [
        "# Speed:\n",
        "Return the specified unit in `meters per second` (e.g. speed_of_sound returns 340.5)"
      ],
      "metadata": {
        "id": "W7D0isu1JmwC"
      }
    },
    {
      "cell_type": "code",
      "source": [
        "print(const.kmh)\n",
        "print(const.mph)\n",
        "print(const.mach)\n",
        "print(const.speed_of_sound)\n",
        "print(const.knot)"
      ],
      "metadata": {
        "colab": {
          "base_uri": "https://localhost:8080/"
        },
        "id": "Vpdl_di4J1V5",
        "outputId": "868b8bf1-9844-45b6-fef8-6434b9f3c870"
      },
      "execution_count": null,
      "outputs": [
        {
          "output_type": "stream",
          "name": "stdout",
          "text": [
            "0.2777777777777778\n",
            "0.44703999999999994\n",
            "340.5\n",
            "340.5\n",
            "0.5144444444444445\n"
          ]
        }
      ]
    },
    {
      "cell_type": "markdown",
      "source": [
        "# Temperature:\n",
        "Return the specified unit in `Kelvin` (e.g. zero_Celsius returns 273.15)"
      ],
      "metadata": {
        "id": "ecQER_pPJ1Sh"
      }
    },
    {
      "cell_type": "code",
      "source": [
        "print(const.zero_Celsius)\n",
        "print(const.degree_Fahrenheit)"
      ],
      "metadata": {
        "colab": {
          "base_uri": "https://localhost:8080/"
        },
        "id": "PFUe9uWNJ1PC",
        "outputId": "145a5d4d-7315-4035-9756-6614727fe854"
      },
      "execution_count": null,
      "outputs": [
        {
          "output_type": "stream",
          "name": "stdout",
          "text": [
            "273.15\n",
            "0.5555555555555556\n"
          ]
        }
      ]
    },
    {
      "cell_type": "markdown",
      "source": [
        "# Energy:\n",
        "Return the specified unit in `joules` (e.g. calorie returns 4.184)"
      ],
      "metadata": {
        "id": "YaE1eehPJ1IC"
      }
    },
    {
      "cell_type": "code",
      "source": [
        "print(const.calorie)\n",
        "print(const.calorie_th)\n",
        "print(const.calorie_IT)\n",
        "print(const.erg)\n",
        "print(const.Btu)\n",
        "print(const.Btu_IT)\n",
        "print(const.Btu_th)\n",
        "print(const.ton_TNT)\n",
        "print(const.eV)"
      ],
      "metadata": {
        "colab": {
          "base_uri": "https://localhost:8080/"
        },
        "id": "7aKPvcESJ1AT",
        "outputId": "1a3e7998-ceb3-4dc2-8668-f5139870509d"
      },
      "execution_count": null,
      "outputs": [
        {
          "output_type": "stream",
          "name": "stdout",
          "text": [
            "4.184\n",
            "4.184\n",
            "4.1868\n",
            "1e-07\n",
            "1055.05585262\n",
            "1055.05585262\n",
            "1054.3502644888888\n",
            "4184000000.0\n",
            "1.602176634e-19\n"
          ]
        }
      ]
    },
    {
      "cell_type": "markdown",
      "source": [
        "# Power:\n",
        "Return the specified unit in `watts` (e.g. horsepower returns 745.6998715822701)"
      ],
      "metadata": {
        "id": "KZAnq8L_KduQ"
      }
    },
    {
      "cell_type": "code",
      "source": [
        "print(const.hp)\n",
        "print(const.horsepower)"
      ],
      "metadata": {
        "colab": {
          "base_uri": "https://localhost:8080/"
        },
        "id": "E30a-cUDKjtJ",
        "outputId": "18bffff5-17e3-4586-8e4c-733f11ef32a0"
      },
      "execution_count": null,
      "outputs": [
        {
          "output_type": "stream",
          "name": "stdout",
          "text": [
            "745.6998715822701\n",
            "745.6998715822701\n"
          ]
        }
      ]
    },
    {
      "cell_type": "markdown",
      "source": [
        "# Force:\n",
        "Return the specified unit in `newton` (e.g. kilogram_force returns 9.80665)"
      ],
      "metadata": {
        "id": "vfPN-I44KqA9"
      }
    },
    {
      "cell_type": "code",
      "source": [
        "print(const.dyn)\n",
        "print(const.dyne)\n",
        "print(const.lbf)\n",
        "print(const.pound_force)\n",
        "print(const.kgf)\n",
        "print(const.kilogram_force)"
      ],
      "metadata": {
        "colab": {
          "base_uri": "https://localhost:8080/"
        },
        "id": "wjPnFbhbKyS8",
        "outputId": "850b6c7b-85f2-4d2a-cb97-32fb51471fa9"
      },
      "execution_count": null,
      "outputs": [
        {
          "output_type": "stream",
          "name": "stdout",
          "text": [
            "1e-05\n",
            "1e-05\n",
            "4.4482216152605\n",
            "4.4482216152605\n",
            "9.80665\n",
            "9.80665\n"
          ]
        }
      ]
    },
    {
      "cell_type": "markdown",
      "source": [
        "# Time"
      ],
      "metadata": {
        "id": "yEmuJRr5K2Rv"
      }
    },
    {
      "cell_type": "code",
      "source": [
        "print(const.minute)\n",
        "print(const.hour)\n",
        "print(const.day)\n",
        "print(const.week)\n",
        "print(const.year)\n",
        "print(const.Julian_year)"
      ],
      "metadata": {
        "colab": {
          "base_uri": "https://localhost:8080/"
        },
        "id": "TNuVm_RWP5xD",
        "outputId": "5c9a2858-844f-4a50-e000-5adb3706b388"
      },
      "execution_count": null,
      "outputs": [
        {
          "output_type": "stream",
          "name": "stdout",
          "text": [
            "60.0\n",
            "3600.0\n",
            "86400.0\n",
            "604800.0\n",
            "31536000.0\n",
            "31557600.0\n"
          ]
        }
      ]
    },
    {
      "cell_type": "markdown",
      "source": [
        "# Length"
      ],
      "metadata": {
        "id": "f4v6qbADSo6O"
      }
    },
    {
      "cell_type": "code",
      "source": [
        "print(const.inch)\n",
        "print(const.foot)\n",
        "print(const.yard)\n",
        "print(const.mile)\n",
        "print(const.mil)\n",
        "print(const.pt)\n",
        "print(const.point)\n",
        "print(const.survey_foot)\n",
        "print(const.survey_mile)\n",
        "print(const.fermi)\n",
        "print(const.angstrom)\n",
        "print(const.micron)\n",
        "print(const.au)\n",
        "print(const.astronomical_unit)\n",
        "print(const.light_year)\n",
        "print(const.parsec)"
      ],
      "metadata": {
        "colab": {
          "base_uri": "https://localhost:8080/"
        },
        "id": "9wELjoWBSu26",
        "outputId": "a2892fd2-96d7-4d77-bc7c-cbb11ee35aae"
      },
      "execution_count": null,
      "outputs": [
        {
          "output_type": "stream",
          "name": "stdout",
          "text": [
            "0.0254\n",
            "0.30479999999999996\n",
            "0.9143999999999999\n",
            "1609.3439999999998\n",
            "2.5399999999999997e-05\n",
            "0.00035277777777777776\n",
            "0.00035277777777777776\n",
            "0.3048006096012192\n",
            "1609.3472186944373\n",
            "1e-15\n",
            "1e-10\n",
            "1e-06\n",
            "149597870700.0\n",
            "149597870700.0\n",
            "9460730472580800.0\n",
            "3.085677581491367e+16\n"
          ]
        }
      ]
    },
    {
      "cell_type": "markdown",
      "source": [
        "# convert_temperature"
      ],
      "metadata": {
        "id": "q6pq4GV5TfvP"
      }
    },
    {
      "cell_type": "code",
      "source": [
        "const.convert_temperature(35.8, 'c', 'F')"
      ],
      "metadata": {
        "colab": {
          "base_uri": "https://localhost:8080/"
        },
        "id": "BYyk4kslV4_Q",
        "outputId": "c53d25a8-6d0a-4270-8082-d5e26c559d2a"
      },
      "execution_count": null,
      "outputs": [
        {
          "output_type": "execute_result",
          "data": {
            "text/plain": [
              "np.float64(96.44000000000003)"
            ]
          },
          "metadata": {},
          "execution_count": 46
        }
      ]
    },
    {
      "cell_type": "code",
      "source": [
        "const.convert_temperature(96.44, 'fahrenheit', 'Celsius')"
      ],
      "metadata": {
        "colab": {
          "base_uri": "https://localhost:8080/"
        },
        "id": "DClD4KpUWA-0",
        "outputId": "6f1b0d6a-416a-45c4-cc8c-c619d79fa7b5"
      },
      "execution_count": null,
      "outputs": [
        {
          "output_type": "execute_result",
          "data": {
            "text/plain": [
              "np.float64(35.80000000000001)"
            ]
          },
          "metadata": {},
          "execution_count": 49
        }
      ]
    },
    {
      "cell_type": "code",
      "source": [
        "const.convert_temperature(np.array([35.8, 99, 180]), 'F', 'K')"
      ],
      "metadata": {
        "colab": {
          "base_uri": "https://localhost:8080/"
        },
        "id": "44EtRgC5WRsB",
        "outputId": "9466fd51-ceae-416f-8486-7d908b25e22d"
      },
      "execution_count": null,
      "outputs": [
        {
          "output_type": "execute_result",
          "data": {
            "text/plain": [
              "array([275.26111111, 310.37222222, 355.37222222])"
            ]
          },
          "metadata": {},
          "execution_count": 52
        }
      ]
    },
    {
      "cell_type": "markdown",
      "source": [
        "# lambda2nu\n",
        "```python\n",
        "def lambda2nu(lambda_):\n",
        "   # c is speed of light(m/s)\n",
        "   c = 3e8  \n",
        "   # Convert wavelength (in meters) to frequency (in Hz)\n",
        "   nu = c / lambda_\n",
        "   return nu\n",
        "\n",
        "# w is wavelength(m)\n",
        "w = 500e-9\n",
        "f = lambda2nu(w)\n",
        "print(f\"Frequency: {f} Hz\")\n",
        "```"
      ],
      "metadata": {
        "id": "K1AoPZJ_WlL2"
      }
    },
    {
      "cell_type": "code",
      "source": [
        "const.lambda2nu(500e-9)"
      ],
      "metadata": {
        "id": "Js2XwobzXsV0",
        "outputId": "d069976e-1f05-4adb-8d19-744a7b850c25",
        "colab": {
          "base_uri": "https://localhost:8080/"
        }
      },
      "execution_count": null,
      "outputs": [
        {
          "output_type": "execute_result",
          "data": {
            "text/plain": [
              "np.float64(599584916000000.0)"
            ]
          },
          "metadata": {},
          "execution_count": 53
        }
      ]
    },
    {
      "cell_type": "code",
      "source": [],
      "metadata": {
        "id": "s5QSRdAoXtq0"
      },
      "execution_count": null,
      "outputs": []
    },
    {
      "cell_type": "code",
      "source": [],
      "metadata": {
        "id": "huulrtBUXtnM"
      },
      "execution_count": null,
      "outputs": []
    },
    {
      "cell_type": "code",
      "source": [],
      "metadata": {
        "id": "riqXWWgEXtkA"
      },
      "execution_count": null,
      "outputs": []
    },
    {
      "cell_type": "code",
      "source": [],
      "metadata": {
        "id": "3FuPCwkaXsSg"
      },
      "execution_count": null,
      "outputs": []
    },
    {
      "cell_type": "code",
      "source": [],
      "metadata": {
        "id": "7-Hh6KoyXsPH"
      },
      "execution_count": null,
      "outputs": []
    },
    {
      "cell_type": "code",
      "source": [],
      "metadata": {
        "id": "zAkmwXWWXsLv"
      },
      "execution_count": null,
      "outputs": []
    },
    {
      "cell_type": "code",
      "source": [],
      "metadata": {
        "id": "kZQwQX6sXsIS"
      },
      "execution_count": null,
      "outputs": []
    },
    {
      "cell_type": "code",
      "source": [],
      "metadata": {
        "id": "C63hYbU8XsEo"
      },
      "execution_count": null,
      "outputs": []
    }
  ]
}