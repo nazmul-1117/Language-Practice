{
  "nbformat": 4,
  "nbformat_minor": 0,
  "metadata": {
    "colab": {
      "provenance": []
    },
    "kernelspec": {
      "name": "python3",
      "display_name": "Python 3"
    },
    "language_info": {
      "name": "python"
    }
  },
  "cells": [
    {
      "cell_type": "markdown",
      "source": [
        "# What is SciPy?\n",
        "- SciPy is a scientific computation library that uses NumPy underneath.\n",
        "- SciPy stands for Scientific Python.\n",
        "- It provides more utility functions for optimization, stats and signal processing.\n",
        "- Like NumPy, SciPy is open source so we can use it freely.\n",
        "- SciPy was created by NumPy's creator Travis Olliphant.\n",
        "\n",
        "# Why Use SciPy?\n",
        "- If SciPy uses NumPy underneath, why can we not just use NumPy?\n",
        "  - SciPy has optimized and added functions that are frequently used in NumPy and Data Science.\n",
        "\n",
        "# Which Language is SciPy Written in?\n",
        "  - SciPy is predominantly written in Python, but a few segments are written in C.\n",
        "\n",
        "# Where is the SciPy Codebase?\n",
        "The source code for SciPy is located at this github repository https://github.com/scipy/scipy"
      ],
      "metadata": {
        "id": "oAjCJjJy_a2J"
      }
    },
    {
      "cell_type": "markdown",
      "source": [
        "# Import Scipy"
      ],
      "metadata": {
        "id": "UK7N6wq8AL6O"
      }
    },
    {
      "cell_type": "code",
      "source": [
        "import scipy as sc"
      ],
      "metadata": {
        "id": "BOWwDVGQAZNS"
      },
      "execution_count": null,
      "outputs": []
    },
    {
      "cell_type": "code",
      "source": [
        "sc.__version__"
      ],
      "metadata": {
        "id": "Z-SxkdRjAbLF",
        "outputId": "37ade48a-38d9-4320-b83e-76c9b3a27257",
        "colab": {
          "base_uri": "https://localhost:8080/",
          "height": 35
        }
      },
      "execution_count": null,
      "outputs": [
        {
          "output_type": "execute_result",
          "data": {
            "text/plain": [
              "'1.16.2'"
            ],
            "application/vnd.google.colaboratory.intrinsic+json": {
              "type": "string"
            }
          },
          "metadata": {},
          "execution_count": 3
        }
      ]
    },
    {
      "cell_type": "code",
      "source": [],
      "metadata": {
        "id": "MO4LwgOuAfxu"
      },
      "execution_count": null,
      "outputs": []
    }
  ]
}