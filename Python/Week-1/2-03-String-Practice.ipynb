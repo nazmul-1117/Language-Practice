{
  "metadata": {
    "kernelspec": {
      "name": "python",
      "display_name": "Python (Pyodide)",
      "language": "python"
    },
    "language_info": {
      "codemirror_mode": {
        "name": "python",
        "version": 3
      },
      "file_extension": ".py",
      "mimetype": "text/x-python",
      "name": "python",
      "nbconvert_exporter": "python",
      "pygments_lexer": "ipython3",
      "version": "3.8"
    }
  },
  "nbformat_minor": 4,
  "nbformat": 4,
  "cells": [
    {
      "cell_type": "markdown",
      "source": "# Question 01: You've given a date 10-11-2024 (today's date) in string formate. Extract the date into integers like day, month, year ",
      "metadata": {}
    },
    {
      "cell_type": "markdown",
      "source": "# Answer of Question 01:",
      "metadata": {}
    },
    {
      "cell_type": "code",
      "source": "date = \"10-11-2024\";\n\nday = int(date[ : 2]);\nmonth = int(date[3 : 5]);\nyear = int(date[6: ]);\n\nprint(f'Day: {day}');\nprint(f'Month: {month}');\nprint(f'Year: {year}');",
      "metadata": {
        "trusted": true
      },
      "outputs": [
        {
          "name": "stdout",
          "text": "Day: 10\nMonth: 11\nYear: 2024\n",
          "output_type": "stream"
        }
      ],
      "execution_count": 5
    },
    {
      "cell_type": "markdown",
      "source": "# Question 02: You have given a string \"I am Nazmul. I'm from Naogaon, Bangladesh\". your task is reverse this string",
      "metadata": {}
    },
    {
      "cell_type": "markdown",
      "source": "# Answer of Question 02:",
      "metadata": {}
    },
    {
      "cell_type": "code",
      "source": "s = \"I am Nazmul. I'm from Naogaon, Bangladesh\";\nprint(s[ : : -1]);",
      "metadata": {
        "trusted": true
      },
      "outputs": [
        {
          "name": "stdout",
          "text": "hsedalgnaB ,noagoaN morf m'I .lumzaN ma I\n",
          "output_type": "stream"
        }
      ],
      "execution_count": 6
    },
    {
      "cell_type": "code",
      "source": "",
      "metadata": {
        "trusted": true
      },
      "outputs": [],
      "execution_count": null
    },
    {
      "cell_type": "code",
      "source": "",
      "metadata": {
        "trusted": true
      },
      "outputs": [],
      "execution_count": null
    },
    {
      "cell_type": "code",
      "source": "",
      "metadata": {
        "trusted": true
      },
      "outputs": [],
      "execution_count": null
    },
    {
      "cell_type": "code",
      "source": "",
      "metadata": {
        "trusted": true
      },
      "outputs": [],
      "execution_count": null
    },
    {
      "cell_type": "code",
      "source": "",
      "metadata": {
        "trusted": true
      },
      "outputs": [],
      "execution_count": null
    },
    {
      "cell_type": "code",
      "source": "",
      "metadata": {
        "trusted": true
      },
      "outputs": [],
      "execution_count": null
    }
  ]
}