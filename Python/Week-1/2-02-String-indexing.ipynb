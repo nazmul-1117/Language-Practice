{
  "metadata": {
    "kernelspec": {
      "name": "python",
      "display_name": "Python (Pyodide)",
      "language": "python"
    },
    "language_info": {
      "codemirror_mode": {
        "name": "python",
        "version": 3
      },
      "file_extension": ".py",
      "mimetype": "text/x-python",
      "name": "python",
      "nbconvert_exporter": "python",
      "pygments_lexer": "ipython3",
      "version": "3.8"
    }
  },
  "nbformat_minor": 4,
  "nbformat": 4,
  "cells": [
    {
      "cell_type": "markdown",
      "source": "# creating string",
      "metadata": {}
    },
    {
      "cell_type": "code",
      "source": "#single inverter comma\nstr1 = 'Ny Name is Nazmul';\nprint(str1);\nprint(type(str1));",
      "metadata": {
        "trusted": true
      },
      "outputs": [
        {
          "name": "stdout",
          "text": "Ny Name is Nazmul\n<class 'str'>\n",
          "output_type": "stream"
        }
      ],
      "execution_count": 2
    },
    {
      "cell_type": "code",
      "source": "#double inverter comma\nstr2 = \"Ny Name is Nazmul\";\nprint(str2);\nprint(type(str2));",
      "metadata": {
        "trusted": true
      },
      "outputs": [
        {
          "name": "stdout",
          "text": "Ny Name is Nazmul\n<class 'str'>\n",
          "output_type": "stream"
        }
      ],
      "execution_count": 4
    },
    {
      "cell_type": "markdown",
      "source": "# multiline string",
      "metadata": {}
    },
    {
      "cell_type": "code",
      "source": "str3 = \"\"\"Ny\nName\nis\nNazmul\"\"\";\nprint(str3);\nprint(type(str3));",
      "metadata": {
        "trusted": true
      },
      "outputs": [
        {
          "name": "stdout",
          "text": "Ny\nName\nis\nNazmul\n<class 'str'>\n",
          "output_type": "stream"
        }
      ],
      "execution_count": 7
    },
    {
      "cell_type": "markdown",
      "source": "# positive indexing",
      "metadata": {}
    },
    {
      "cell_type": "code",
      "source": "str4 = \"Nazmul\";\nprint(str4[0]);\nprint(str4[5]);",
      "metadata": {
        "trusted": true
      },
      "outputs": [
        {
          "name": "stdout",
          "text": "N\nl\n",
          "output_type": "stream"
        }
      ],
      "execution_count": 8
    },
    {
      "cell_type": "markdown",
      "source": "# Negative indexing",
      "metadata": {}
    },
    {
      "cell_type": "code",
      "source": "str5 = \"Nazmul\";\nprint(str5[-1]);\nprint(str5[-6]);",
      "metadata": {
        "trusted": true
      },
      "outputs": [
        {
          "name": "stdout",
          "text": "l\nN\n",
          "output_type": "stream"
        }
      ],
      "execution_count": 9
    },
    {
      "cell_type": "markdown",
      "source": "# positive slicing",
      "metadata": {}
    },
    {
      "cell_type": "code",
      "source": "# slice means cut the string from a portion\n# str5[ start : end+1 : step];\nstr6 = \"Nazmul\";\nprint(str6[0 : 2]);\nprint(str6[2 : 6]);",
      "metadata": {
        "trusted": true
      },
      "outputs": [
        {
          "name": "stdout",
          "text": "Na\nzmul\n",
          "output_type": "stream"
        }
      ],
      "execution_count": 19
    },
    {
      "cell_type": "markdown",
      "source": "# negative sliceing",
      "metadata": {}
    },
    {
      "cell_type": "code",
      "source": "str7 = \"Nazmul\";\nprint(str7[-3 : ]);\nprint(str7[-6 : -3]);",
      "metadata": {
        "trusted": true
      },
      "outputs": [
        {
          "name": "stdout",
          "text": "mul\nNaz\n",
          "output_type": "stream"
        }
      ],
      "execution_count": 18
    },
    {
      "cell_type": "markdown",
      "source": "# slicing with jump",
      "metadata": {}
    },
    {
      "cell_type": "code",
      "source": "str8 = \"Nazmul\";\nprint(str8[ : : 2]);\nprint(str8[-6 : : 2]);",
      "metadata": {
        "trusted": true
      },
      "outputs": [
        {
          "name": "stdout",
          "text": "Nzu\nNzu\n",
          "output_type": "stream"
        }
      ],
      "execution_count": 22
    }
  ]
}