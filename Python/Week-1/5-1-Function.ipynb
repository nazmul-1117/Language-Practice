{
  "metadata": {
    "kernelspec": {
      "name": "python",
      "display_name": "Python (Pyodide)",
      "language": "python"
    },
    "language_info": {
      "codemirror_mode": {
        "name": "python",
        "version": 3
      },
      "file_extension": ".py",
      "mimetype": "text/x-python",
      "name": "python",
      "nbconvert_exporter": "python",
      "pygments_lexer": "ipython3",
      "version": "3.8"
    }
  },
  "nbformat_minor": 4,
  "nbformat": 4,
  "cells": [
    {
      "cell_type": "markdown",
      "source": "# Function in python",
      "metadata": {}
    },
    {
      "cell_type": "markdown",
      "source": "# 4. 1 Create a function celsius_to_fahrenheit that takes a temperature in Celsius as input and returns the equivalent temperature in Fahrenheit.1",
      "metadata": {
        "jp-MarkdownHeadingCollapsed": true
      }
    },
    {
      "cell_type": "code",
      "source": "def celsius_to_fahrenheit(c):\n    return round((c*9/5)+32, 2);\n\nc = 38.3;\nf = celsius_to_fahrenheit(c);\nprint(f'{c}C = {f}F');",
      "metadata": {
        "trusted": true
      },
      "outputs": [
        {
          "name": "stdout",
          "text": "38.3C = 100.94F\n",
          "output_type": "stream"
        }
      ],
      "execution_count": 5
    },
    {
      "cell_type": "markdown",
      "source": "# 4.2 Calculates and returns the area of a rectangle.",
      "metadata": {
        "jp-MarkdownHeadingCollapsed": true
      }
    },
    {
      "cell_type": "code",
      "source": "def area_of_rectangle(b, w):\n    return b*w;\n\ndef perimeter_of_rectangl(b, w):\n    return 2*(w+b);\n\nb = 5.3;\nw = 6.3;\n\nprint(f'Area of Rectangle for {b} and {w} is {area_of_rectangle(b, w)}');\nprint(f'Perimeter of Rectangle for {b} and {w} is {perimeter_of_rectangl(b, w)}');",
      "metadata": {
        "trusted": true
      },
      "outputs": [
        {
          "name": "stdout",
          "text": "Area of Rectangle for 5.3 and 6.3 is 33.39\nPerimeter of Rectangle for 5.3 and 6.3 is 23.2\n",
          "output_type": "stream"
        }
      ],
      "execution_count": 7
    },
    {
      "cell_type": "markdown",
      "source": "# 4.3  Check for Palindrome string",
      "metadata": {}
    },
    {
      "cell_type": "code",
      "source": "def is_pallindrom(s):\n    p = True;\n\n    i = 0;\n    j = len(s)-1;\n\n    while i <= j:\n\n        if s[i] != s[j]:\n            p = False;\n            break;\n        i += 1;\n        j -= 1\n    \n    return p;\n\ndef is_pallindrom_using_slice(s):\n    r = s[::-1];\n    return r == s;\n\n\n\ns = \"abcddcaba\";\nif is_pallindrom(s):\n    print(f\"{s} is pallindrom for is_pallindrom function\");\n\nelse:\n    print(f\"{s} is not a pallindrom for is_pallindrom function\");\n\n\nif is_pallindrom_using_slice(s):\n    print(f\"{s} is pallindrom for is_pallindrom_using_slice function\");\n\nelse:\n    print(f\"{s} is not a pallindrom for is_pallindrom_using_slice function\");\n",
      "metadata": {
        "trusted": true
      },
      "outputs": [
        {
          "name": "stdout",
          "text": "abcddcaba is not a pallindrom for is_pallindrom function\nabcddcaba is not a pallindrom for is_pallindrom_using_slice function\n",
          "output_type": "stream"
        }
      ],
      "execution_count": 17
    },
    {
      "cell_type": "markdown",
      "source": "# 4.4 Greatest Common Divisor (GCD)",
      "metadata": {}
    },
    {
      "cell_type": "code",
      "source": "\ndef gcd(a, b):\n    if b == 0:\n        return a;\n\n    while b:\n        a, b = b, a%b;\n\n    return \n\na = 10;\nb = 15;\nprint(f\"The result of {a} and {b} is {gcd(a, b)}\");",
      "metadata": {
        "trusted": true
      },
      "outputs": [],
      "execution_count": null
    },
    {
      "cell_type": "code",
      "source": "",
      "metadata": {
        "trusted": true
      },
      "outputs": [],
      "execution_count": null
    },
    {
      "cell_type": "code",
      "source": "",
      "metadata": {
        "trusted": true
      },
      "outputs": [],
      "execution_count": null
    },
    {
      "cell_type": "code",
      "source": "",
      "metadata": {
        "trusted": true
      },
      "outputs": [],
      "execution_count": null
    },
    {
      "cell_type": "code",
      "source": "",
      "metadata": {
        "trusted": true
      },
      "outputs": [],
      "execution_count": null
    },
    {
      "cell_type": "code",
      "source": "",
      "metadata": {
        "trusted": true
      },
      "outputs": [],
      "execution_count": null
    },
    {
      "cell_type": "code",
      "source": "",
      "metadata": {
        "trusted": true
      },
      "outputs": [],
      "execution_count": null
    },
    {
      "cell_type": "code",
      "source": "",
      "metadata": {
        "trusted": true
      },
      "outputs": [],
      "execution_count": null
    },
    {
      "cell_type": "code",
      "source": "",
      "metadata": {
        "trusted": true
      },
      "outputs": [],
      "execution_count": null
    },
    {
      "cell_type": "code",
      "source": "",
      "metadata": {
        "trusted": true
      },
      "outputs": [],
      "execution_count": null
    }
  ]
}