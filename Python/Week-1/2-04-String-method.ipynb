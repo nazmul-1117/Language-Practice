{
  "metadata": {
    "kernelspec": {
      "name": "python",
      "display_name": "Python (Pyodide)",
      "language": "python"
    },
    "language_info": {
      "codemirror_mode": {
        "name": "python",
        "version": 3
      },
      "file_extension": ".py",
      "mimetype": "text/x-python",
      "name": "python",
      "nbconvert_exporter": "python",
      "pygments_lexer": "ipython3",
      "version": "3.8"
    }
  },
  "nbformat_minor": 4,
  "nbformat": 4,
  "cells": [
    {
      "cell_type": "markdown",
      "source": "# String length",
      "metadata": {}
    },
    {
      "cell_type": "code",
      "source": "myName1 = \"Nazmul\";\nmyName2 = 'naz\\nmul';\nmyName3 = \"\"\"Nazmul\nFrom Naogaon\nBangladesh\"\"\";\n\nprint(myName1);\nprint(myName2);\nprint(myName3);\nprint( (myName1+\" \") * 3);",
      "metadata": {
        "trusted": true,
        "tags": [],
        "editable": true,
        "slideshow": {
          "slide_type": ""
        }
      },
      "outputs": [
        {
          "name": "stdout",
          "text": "Nazmul\nnaz\nmul\nNazmul\nFrom Naogaon\nBangladesh\nNazmul Nazmul Nazmul \n",
          "output_type": "stream"
        }
      ],
      "execution_count": 5
    },
    {
      "cell_type": "code",
      "source": "#find the length of those string\nprint(f\"{myName1}'s Length: {len(myName1)}\");\nprint(f\"{myName2}'s Length: {len(myName2)}\");\nprint(f\"{myName3}'s Length: {len(myName3)}\");",
      "metadata": {
        "trusted": true
      },
      "outputs": [
        {
          "name": "stdout",
          "text": "Nazmul's Length: 6\nnaz\nmul's Length: 7\nNazmul\nFrom Naogaon\nBangladesh's Length: 30\n",
          "output_type": "stream"
        }
      ],
      "execution_count": 6
    },
    {
      "cell_type": "markdown",
      "source": "# UPPER CASE or lower case",
      "metadata": {}
    },
    {
      "cell_type": "code",
      "source": "data = \"\"\"Data science is the study of data to extract meaningful insights for business. \nIt is a multidisciplinary approach that combines principles and practices from the fields of \nmathematics, statistics, artificial intelligence\nand computer engineering to analyze large amounts of data.\"\"\";\n\nprint( \"My Data: \", data);\nprint( \"Data Length: \", len(data));",
      "metadata": {
        "trusted": true
      },
      "outputs": [
        {
          "name": "stdout",
          "text": "My Data:  Data science is the study of data to extract meaningful insights for business. \nIt is a multidisciplinary approach that combines principles and practices from the fields of \nmathematics, statistics, artificial intelligence\nand computer engineering to analyze large amounts of data.\nData Length:  281\n",
          "output_type": "stream"
        }
      ],
      "execution_count": 9
    },
    {
      "cell_type": "code",
      "source": "# uppercase\nupperCase = data.upper();\nprint( \"Upper_Case: \", upperCase);\nprint( \"Data Length: \", len(upperCase));",
      "metadata": {
        "trusted": true
      },
      "outputs": [
        {
          "name": "stdout",
          "text": "Upper_Case:  DATA SCIENCE IS THE STUDY OF DATA TO EXTRACT MEANINGFUL INSIGHTS FOR BUSINESS. \nIT IS A MULTIDISCIPLINARY APPROACH THAT COMBINES PRINCIPLES AND PRACTICES FROM THE FIELDS OF \nMATHEMATICS, STATISTICS, ARTIFICIAL INTELLIGENCE\nAND COMPUTER ENGINEERING TO ANALYZE LARGE AMOUNTS OF DATA.\nData Length:  281\n",
          "output_type": "stream"
        }
      ],
      "execution_count": 11
    },
    {
      "cell_type": "code",
      "source": "# lowerCase\nlowerCase = upperCase.lower();\nprint( \"Lower_Case: \", lowerCase);\nprint( \"Data Length: \", len(lowerCase));",
      "metadata": {
        "trusted": true
      },
      "outputs": [
        {
          "name": "stdout",
          "text": "Lower_Case:  data science is the study of data to extract meaningful insights for business. \nit is a multidisciplinary approach that combines principles and practices from the fields of \nmathematics, statistics, artificial intelligence\nand computer engineering to analyze large amounts of data.\nData Length:  281\n",
          "output_type": "stream"
        }
      ],
      "execution_count": 13
    },
    {
      "cell_type": "markdown",
      "source": "# Replace method of string ",
      "metadata": {}
    },
    {
      "cell_type": "code",
      "source": "statement = \"\"\"Hello Guys, I'm Nazmul\nNazmul is a brand,\nNazmul is man of smart people\nthe people of brother Nazmul is very smart\nI love brother Nazmul\n\nThis dialouge collected from Instagram Reels 😅😅😅\"\"\"",
      "metadata": {
        "trusted": true
      },
      "outputs": [],
      "execution_count": 16
    },
    {
      "cell_type": "code",
      "source": "# Replace Nazmul to XYZ;\n\nprint(f\"Statement: {statement}\");\nprint(f\"Length: {len(statement)}\");\n\nnewStatement = statement.replace(\"Nazmul\", \"XYZ\");\nprint(f\"New_Statement: {newStatement}\");\nprint(f\"Length: {len(newStatement)}\");",
      "metadata": {
        "trusted": true
      },
      "outputs": [
        {
          "name": "stdout",
          "text": "Statement: Hello Guys, I'm Nazmul\nNazmul is a brand,\nNazmul is man of smart people\nthe people of brother Nazmul is very smart\nI love brother Nazmul\n\nThis dialouge collected from Instagram Reels 😅😅😅\nLength: 186\nNew_Statement: Hello Guys, I'm XYZ\nXYZ is a brand,\nXYZ is man of smart people\nthe people of brother XYZ is very smart\nI love brother XYZ\n\nThis dialouge collected from Instagram Reels 😅😅😅\nLength: 171\n",
          "output_type": "stream"
        }
      ],
      "execution_count": 17
    },
    {
      "cell_type": "markdown",
      "source": "# Index method",
      "metadata": {}
    },
    {
      "cell_type": "code",
      "source": "#find the position of XYZ;\nprint(newStatement.index(\"XYZ\"));",
      "metadata": {
        "trusted": true
      },
      "outputs": [
        {
          "name": "stdout",
          "text": "16\n",
          "output_type": "stream"
        }
      ],
      "execution_count": 18
    },
    {
      "cell_type": "markdown",
      "source": "# Find method",
      "metadata": {}
    },
    {
      "cell_type": "code",
      "source": "print(newStatement.find(\"XYZ\"));",
      "metadata": {
        "trusted": true
      },
      "outputs": [
        {
          "name": "stdout",
          "text": "16\n",
          "output_type": "stream"
        }
      ],
      "execution_count": 19
    }
  ]
}