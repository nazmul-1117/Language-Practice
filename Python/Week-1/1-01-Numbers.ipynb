{
  "metadata": {
    "kernelspec": {
      "name": "python",
      "display_name": "Python (Pyodide)",
      "language": "python"
    },
    "language_info": {
      "codemirror_mode": {
        "name": "python",
        "version": 3
      },
      "file_extension": ".py",
      "mimetype": "text/x-python",
      "name": "python",
      "nbconvert_exporter": "python",
      "pygments_lexer": "ipython3",
      "version": "3.8"
    }
  },
  "nbformat_minor": 5,
  "nbformat": 4,
  "cells": [
    {
      "id": "9beff877-f409-4e30-ab86-8c42056660ce",
      "cell_type": "markdown",
      "source": "# Play with Numbers",
      "metadata": {}
    },
    {
      "id": "8af17abd-e3cb-4549-b7ab-6a4e44d13936",
      "cell_type": "markdown",
      "source": "# 1.1 Integers",
      "metadata": {}
    },
    {
      "id": "6eceb0fc-92d8-4d88-8971-f92befa0de7f",
      "cell_type": "code",
      "source": "import math",
      "metadata": {
        "trusted": true
      },
      "outputs": [],
      "execution_count": 5
    },
    {
      "id": "49528cb9-dc34-4c76-b131-2c388e7c947d",
      "cell_type": "code",
      "source": "a = 5;\nb = 2;\nc = a+b\nprint(type(c));\nprint(c);\n",
      "metadata": {
        "trusted": true
      },
      "outputs": [
        {
          "name": "stdout",
          "text": "<class 'int'>\n7\n",
          "output_type": "stream"
        }
      ],
      "execution_count": 4
    },
    {
      "id": "6cb8536d-9934-4d81-9ab9-4dd18bf86772",
      "cell_type": "code",
      "source": "print(a+b);\nprint(a-b);\nprint(a/b);\nprint(a*b);\nprint(a%b);",
      "metadata": {
        "trusted": true
      },
      "outputs": [
        {
          "name": "stdout",
          "text": "7\n3\n2.5\n10\n1\n",
          "output_type": "stream"
        }
      ],
      "execution_count": 6
    },
    {
      "id": "01cb4a1e-ef46-4e86-9e1c-356576fea909",
      "cell_type": "code",
      "source": "# a to the power b\nprint(a**b);\n\n# floor value of a/b\nprint(a//b);",
      "metadata": {
        "trusted": true
      },
      "outputs": [
        {
          "name": "stdout",
          "text": "25\n2\n",
          "output_type": "stream"
        }
      ],
      "execution_count": 13
    },
    {
      "id": "5fc159f2-fc6f-4197-95a9-ac569bf2fe7f",
      "cell_type": "code",
      "source": "d = -17;\nprint( abs(d) );\n\ne = 2.5678;\nprint( round(e, 2) );\n\nprint( pow(a, b) );\n\nprint( math.floor(e) );\nprint( math.ceil(e) );\n\nf = 22;\nprint( math.sqrt(f) );\nprint( round(math.sqrt(f), 2) );",
      "metadata": {
        "trusted": true
      },
      "outputs": [
        {
          "name": "stdout",
          "text": "17\n2.57\n25\n2\n3\n4.69041575982343\n4.69\n",
          "output_type": "stream"
        }
      ],
      "execution_count": 18
    },
    {
      "id": "8be784da-05d0-4b0b-b4ff-247b0441a367",
      "cell_type": "markdown",
      "source": "# Number Conversion",
      "metadata": {}
    },
    {
      "id": "08fe5242-888a-402e-b855-d9777d368af2",
      "cell_type": "code",
      "source": "print(\"Before type cast\");\na = 5;\nb = 7.5;\nc = '123';\nprint( type(a) );\nprint( type(b) );\nprint( type(c) );\n\nprint(\"\\nAfter type cast\");\n\na = float(a);\nb = int(b);\nc = int(c);\nprint( type(a) );\nprint( type(b) );\nprint( type(c) );\n",
      "metadata": {
        "trusted": true
      },
      "outputs": [
        {
          "name": "stdout",
          "text": "Before type cast\n<class 'int'>\n<class 'float'>\n<class 'str'>\n\nAfter type cast\n<class 'float'>\n<class 'int'>\n<class 'int'>\n",
          "output_type": "stream"
        }
      ],
      "execution_count": 24
    },
    {
      "id": "eab9ad6d-aed4-4b69-a485-dbf48be82f4e",
      "cell_type": "markdown",
      "source": "# Floats",
      "metadata": {}
    },
    {
      "id": "d91c2141-4292-461f-80c6-547a9f4050e5",
      "cell_type": "code",
      "source": "print (7/2);\nprint (2.0/0.1);\nprint (2.0 ** 3);",
      "metadata": {
        "trusted": true
      },
      "outputs": [
        {
          "name": "stdout",
          "text": "3.5\n20.0\n8.0\n",
          "output_type": "stream"
        }
      ],
      "execution_count": 29
    },
    {
      "id": "14238f09-3942-4e82-bd27-5201364abd45",
      "cell_type": "markdown",
      "source": "# Some Extra",
      "metadata": {}
    },
    {
      "id": "74069190-9c26-4575-855a-8f622f11fa5a",
      "cell_type": "code",
      "source": "# underscore in integers\nx = 100_000;\nprint (type(x));\nprint (x);",
      "metadata": {
        "trusted": true
      },
      "outputs": [
        {
          "name": "stdout",
          "text": "<class 'int'>\n100000\n",
          "output_type": "stream"
        }
      ],
      "execution_count": 31
    },
    {
      "id": "eca601c0-70e7-43e1-942d-298e59fe08f7",
      "cell_type": "code",
      "source": "# multiple assignment\n\nx, y, z = 5, 7, 11;\n\nprint (x);\nprint (y);\nprint (z);\nprint (x, y);\nprint (y, z);\nprint (x, z);\nprint (x, y, z);\n",
      "metadata": {
        "trusted": true
      },
      "outputs": [
        {
          "name": "stdout",
          "text": "5\n7\n11\n5 7\n7 11\n5 11\n5 7 11\n",
          "output_type": "stream"
        }
      ],
      "execution_count": 33
    },
    {
      "id": "0bb89905-7628-410d-bf67-02b3381d3e93",
      "cell_type": "markdown",
      "source": "# CONSTANT const",
      "metadata": {}
    },
    {
      "id": "b69bbde2-0204-42ad-9bd6-334bf7a3dc74",
      "cell_type": "code",
      "source": "# constant should be capatical letter\nPI = 3.1416;\nID = 223002089\nMY_NAME = \"Md. Nazmul Hossain\";\n\nprint (PI);\nprint (ID);\nprint (MY_NAME);",
      "metadata": {
        "trusted": true
      },
      "outputs": [
        {
          "name": "stdout",
          "text": "3.1416\n223002089\nMd. Nazmul Hossain\n",
          "output_type": "stream"
        }
      ],
      "execution_count": 35
    },
    {
      "id": "19f3a3c9-feb3-4421-b1d0-c4346e3ab3c1",
      "cell_type": "code",
      "source": "",
      "metadata": {
        "trusted": true
      },
      "outputs": [],
      "execution_count": null
    }
  ]
}