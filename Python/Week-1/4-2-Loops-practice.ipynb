{
  "metadata": {
    "kernelspec": {
      "name": "python",
      "display_name": "Python (Pyodide)",
      "language": "python"
    },
    "language_info": {
      "codemirror_mode": {
        "name": "python",
        "version": 3
      },
      "file_extension": ".py",
      "mimetype": "text/x-python",
      "name": "python",
      "nbconvert_exporter": "python",
      "pygments_lexer": "ipython3",
      "version": "3.8"
    }
  },
  "nbformat_minor": 5,
  "nbformat": 4,
  "cells": [
    {
      "id": "24e64fd2-0c91-4d61-8b6a-c8454970f946",
      "cell_type": "markdown",
      "source": "# Loop exercise ",
      "metadata": {}
    },
    {
      "id": "d963d2dd-af1a-426f-abf9-d9fd68aa3b47",
      "cell_type": "markdown",
      "source": "# 1.1 Sum of series of given Numbers",
      "metadata": {}
    },
    {
      "id": "952c3d1c-3626-4c7a-86c4-2e4369c67bc0",
      "cell_type": "code",
      "source": "# 5 = 1 + 2 + 3 + 4  = 15\nn = 5;\nsum = 0;\n\nfor i  in range(1, n+1):\n    sum += i;\nprint(sum);",
      "metadata": {
        "trusted": true
      },
      "outputs": [
        {
          "name": "stdout",
          "text": "15\n",
          "output_type": "stream"
        }
      ],
      "execution_count": 7
    },
    {
      "id": "347335cd-c685-4a7d-b360-1f3122914481",
      "cell_type": "markdown",
      "source": "# 1.2 Factorial Calculation",
      "metadata": {}
    },
    {
      "id": "8e1937db-e1df-4ea3-b11b-a246a2a7dbaf",
      "cell_type": "code",
      "source": "n = 6;\nfact = 1;\n\nfor i in range(1, n+1):\n    fact *= i;\n\nprint(fact);",
      "metadata": {
        "trusted": true
      },
      "outputs": [
        {
          "name": "stdout",
          "text": "720\n",
          "output_type": "stream"
        }
      ],
      "execution_count": 9
    },
    {
      "id": "1caae5c8-b9b6-4179-a96e-3a96b060c462",
      "cell_type": "markdown",
      "source": "# 1.3 Write a program to check if a given number is prime using a for loop.",
      "metadata": {}
    },
    {
      "id": "44925ee5-ad70-4823-a11a-732fe46caf0e",
      "cell_type": "code",
      "source": "n = 17;\np = True;\n\nfor i in range(2,  n):\n    if(n%i == 0):\n        p = False;\n        break;\n\nif p:\n    print(\"Prime\");\n\nelse:\n    print(\"Not a Prime\");",
      "metadata": {
        "trusted": true
      },
      "outputs": [
        {
          "name": "stdout",
          "text": "Prime\n",
          "output_type": "stream"
        }
      ],
      "execution_count": 12
    },
    {
      "id": "d6021949-5595-4bdc-9477-06b7a29f2e26",
      "cell_type": "markdown",
      "source": "# 1.4 Write a program to reverse a given string using a loop.",
      "metadata": {}
    },
    {
      "id": "690ce877-aad9-45f8-8b9a-5a99ece04833",
      "cell_type": "code",
      "source": "# using for loop\ns = \"Nazmul\";\nfor i in range(len(s)-1, -1, -1):\n    print(s[i], end = \"\");\n",
      "metadata": {
        "trusted": true
      },
      "outputs": [
        {
          "name": "stdout",
          "text": "lumzaN",
          "output_type": "stream"
        }
      ],
      "execution_count": 27
    },
    {
      "id": "d92e76a7-45b6-467a-99f3-b7f3a4594a18",
      "cell_type": "code",
      "source": "# using while loop\ns = \"Nazmul\";\nrs = \"\";\nl = len(s)-1;\nwhile l >= -1:\n    rs += s[l];\n    l -= 1;\n\nprint(f'While Loop: {rs}');",
      "metadata": {
        "trusted": true
      },
      "outputs": [
        {
          "name": "stdout",
          "text": "While Loop: lumzaNl\n",
          "output_type": "stream"
        }
      ],
      "execution_count": 28
    },
    {
      "id": "29a380a8-b469-48ac-96de-4c13988e7ea2",
      "cell_type": "markdown",
      "source": "# 1.5 Write a program to generate the first 'n' numbers in the Fibonacci sequence using a loop.",
      "metadata": {}
    },
    {
      "id": "06953105-7350-4d45-8a46-4fe5225829fc",
      "cell_type": "code",
      "source": "#using for loop\nn = 10;\na = 0;\nb = 1;\nsum = 0;\nfor i in range(2, n+1):\n    temp = a+b;\n    a = b;\n    b = temp\n    sum = temp\n\nprint(sum);",
      "metadata": {
        "trusted": true
      },
      "outputs": [
        {
          "name": "stdout",
          "text": "55\n",
          "output_type": "stream"
        }
      ],
      "execution_count": 31
    },
    {
      "id": "430e0377-0314-48b3-b3a3-197f9e4b5b11",
      "cell_type": "code",
      "source": "#using while loop\nn = 10;\na = 0;\nb=1;\ni = 2;\ntemp = 0;\n\nwhile i <= n:\n    temp = a+b;\n    a = b;\n    b = temp;\n    i += 1;\n\nprint(temp)",
      "metadata": {
        "trusted": true
      },
      "outputs": [
        {
          "name": "stdout",
          "text": "55\n",
          "output_type": "stream"
        }
      ],
      "execution_count": 32
    },
    {
      "id": "156f2637-23a9-4d07-9c1d-1d2464fa7311",
      "cell_type": "code",
      "source": "",
      "metadata": {
        "trusted": true
      },
      "outputs": [],
      "execution_count": null
    },
    {
      "id": "480bb71a-3b8e-4a0e-9212-3bfbcc3faffa",
      "cell_type": "code",
      "source": "",
      "metadata": {
        "trusted": true
      },
      "outputs": [],
      "execution_count": null
    },
    {
      "id": "f4e0d29d-a5db-41b0-9925-dda798f1af1d",
      "cell_type": "code",
      "source": "",
      "metadata": {
        "trusted": true
      },
      "outputs": [],
      "execution_count": null
    },
    {
      "id": "1e683c74-b843-4982-960c-148f072556cd",
      "cell_type": "code",
      "source": "",
      "metadata": {
        "trusted": true
      },
      "outputs": [],
      "execution_count": null
    },
    {
      "id": "43f8f79c-2375-47e2-a17a-9d9e249028bf",
      "cell_type": "code",
      "source": "",
      "metadata": {
        "trusted": true
      },
      "outputs": [],
      "execution_count": null
    },
    {
      "id": "c7a89a6c-4a39-4c9d-a239-732071c1047d",
      "cell_type": "code",
      "source": "",
      "metadata": {
        "trusted": true
      },
      "outputs": [],
      "execution_count": null
    },
    {
      "id": "2209effd-fdcb-43bc-a61b-90812df5b51b",
      "cell_type": "code",
      "source": "",
      "metadata": {
        "trusted": true
      },
      "outputs": [],
      "execution_count": null
    },
    {
      "id": "8d0601a3-6bee-4149-ae23-6776bcc425a7",
      "cell_type": "code",
      "source": "",
      "metadata": {
        "trusted": true
      },
      "outputs": [],
      "execution_count": null
    },
    {
      "id": "880e4032-026c-4f45-9d9a-95d7aa39ca85",
      "cell_type": "code",
      "source": "",
      "metadata": {
        "trusted": true
      },
      "outputs": [],
      "execution_count": null
    }
  ]
}