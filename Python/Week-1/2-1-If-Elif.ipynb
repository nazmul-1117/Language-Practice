{
  "metadata": {
    "kernelspec": {
      "name": "python",
      "display_name": "Python (Pyodide)",
      "language": "python"
    },
    "language_info": {
      "codemirror_mode": {
        "name": "python",
        "version": 3
      },
      "file_extension": ".py",
      "mimetype": "text/x-python",
      "name": "python",
      "nbconvert_exporter": "python",
      "pygments_lexer": "ipython3",
      "version": "3.8"
    }
  },
  "nbformat_minor": 4,
  "nbformat": 4,
  "cells": [
    {
      "cell_type": "markdown",
      "source": "# Conditional Statement (if elif)",
      "metadata": {}
    },
    {
      "cell_type": "markdown",
      "source": "# 1.0 Voting",
      "metadata": {
        "jp-MarkdownHeadingCollapsed": true
      }
    },
    {
      "cell_type": "code",
      "source": "a = 22;\ncv = False;\n\nif a >= 18 and a < 69:\n    print(\"You can Vote Now\");\n    print(\"No body can vote else you\");\n    cv = True;\n    \nelif a >= 70 and a < 129:\n    print(\"Your time is over. Go to the Kobor :)\");\n\nelif a >= 130:\n    print(\"You are a Bhoot now, go to your universe\");\n    \nelse:\n    print(\"You can't Vote Now\");\n\n\nif cv:\n    print(\"Vote Done. Thank You.\");\n\n    \nprint(\"Everybody can vote here\");",
      "metadata": {
        "trusted": true
      },
      "outputs": [
        {
          "name": "stdout",
          "text": "You can Vote Now\nNo body can vote else you\nVote Done. Thank You.\nEverybody can vote here\n",
          "output_type": "stream"
        }
      ],
      "execution_count": 16
    },
    {
      "cell_type": "markdown",
      "source": "# 1.1 Grade Calculator",
      "metadata": {
        "jp-MarkdownHeadingCollapsed": true
      }
    },
    {
      "cell_type": "code",
      "source": "m = -1;\n\nprint(\"You're:\",  end = \" \");\nif m >= 80:\n    print(\"A+\");\n\nelif m >= 70:\n    print(\"A\");\n\nelif m >= 60:\n    print(\"A-\");\n\nelif m >= 50:\n    print(\"B\");\n\nelif m >= 40:\n    print(\"C\");\n\nelif m < 40:\n    print(\"You're failed\");\n\nprint(\"Thanks for checked our application\");",
      "metadata": {
        "trusted": true
      },
      "outputs": [
        {
          "name": "stdout",
          "text": "You're: You're failed\nThanks for checked our application\n",
          "output_type": "stream"
        }
      ],
      "execution_count": 24
    },
    {
      "cell_type": "markdown",
      "source": "# 1.2 Leap Year Checker",
      "metadata": {
        "jp-MarkdownHeadingCollapsed": true
      }
    },
    {
      "cell_type": "code",
      "source": "y = 2025;\nly = False;\n\nif (y%4 == 0 and y%100 != 0) or (y%400 == 0):\n    ly = True;\n\nif ly:\n    print(\"Leap Year\");\n\nelse:\n    print(\"Not a Leap Year\");\n",
      "metadata": {
        "trusted": true
      },
      "outputs": [
        {
          "name": "stdout",
          "text": "Not a Leap Year\n",
          "output_type": "stream"
        }
      ],
      "execution_count": 41
    },
    {
      "cell_type": "markdown",
      "source": "# 1.3 Even or Odd",
      "metadata": {
        "jp-MarkdownHeadingCollapsed": true
      }
    },
    {
      "cell_type": "code",
      "source": "n = 23;\n\nif n&1:\n    print(\"Odd\");\nelse:\n    print(\"Even\");",
      "metadata": {
        "trusted": true
      },
      "outputs": [
        {
          "name": "stdout",
          "text": "Odd\n",
          "output_type": "stream"
        }
      ],
      "execution_count": 46
    },
    {
      "cell_type": "markdown",
      "source": "# 1.4 Largest of Three Numbers",
      "metadata": {
        "jp-MarkdownHeadingCollapsed": true
      }
    },
    {
      "cell_type": "code",
      "source": "x, y, z = 15, 21, 10;\n\nif x > y and x > z:\n    print(x);\n\nelif y > z:\n    print(y);\n\nelse:\n    print(z);",
      "metadata": {
        "trusted": true
      },
      "outputs": [
        {
          "name": "stdout",
          "text": "21\n",
          "output_type": "stream"
        }
      ],
      "execution_count": 49
    },
    {
      "cell_type": "markdown",
      "source": "# 1.5 Vowel or Consonant",
      "metadata": {
        "jp-MarkdownHeadingCollapsed": true
      }
    },
    {
      "cell_type": "code",
      "source": "s = \"O\";\ns = s.lower();\n\nif s in \"aeiou\":\n    print(\"Vowel\");\n\nelse:\n    print(\"Consonant\");",
      "metadata": {
        "trusted": true
      },
      "outputs": [
        {
          "name": "stdout",
          "text": "Vowel\n",
          "output_type": "stream"
        }
      ],
      "execution_count": 53
    },
    {
      "cell_type": "code",
      "source": "",
      "metadata": {
        "trusted": true
      },
      "outputs": [],
      "execution_count": null
    },
    {
      "cell_type": "code",
      "source": "",
      "metadata": {
        "trusted": true
      },
      "outputs": [],
      "execution_count": null
    },
    {
      "cell_type": "code",
      "source": "",
      "metadata": {
        "trusted": true
      },
      "outputs": [],
      "execution_count": null
    },
    {
      "cell_type": "code",
      "source": "",
      "metadata": {
        "trusted": true
      },
      "outputs": [],
      "execution_count": null
    },
    {
      "cell_type": "code",
      "source": "",
      "metadata": {
        "trusted": true
      },
      "outputs": [],
      "execution_count": null
    },
    {
      "cell_type": "code",
      "source": "",
      "metadata": {
        "trusted": true
      },
      "outputs": [],
      "execution_count": null
    },
    {
      "cell_type": "code",
      "source": "",
      "metadata": {
        "trusted": true
      },
      "outputs": [],
      "execution_count": null
    },
    {
      "cell_type": "code",
      "source": "",
      "metadata": {
        "trusted": true
      },
      "outputs": [],
      "execution_count": null
    }
  ]
}