{
  "metadata": {
    "kernelspec": {
      "name": "python",
      "display_name": "Python (Pyodide)",
      "language": "python"
    },
    "language_info": {
      "codemirror_mode": {
        "name": "python",
        "version": 3
      },
      "file_extension": ".py",
      "mimetype": "text/x-python",
      "name": "python",
      "nbconvert_exporter": "python",
      "pygments_lexer": "ipython3",
      "version": "3.8"
    }
  },
  "nbformat_minor": 5,
  "nbformat": 4,
  "cells": [
    {
      "id": "ee7bbdab-c040-4c91-9b32-93479baefa80",
      "cell_type": "markdown",
      "source": "# Tuple Practice",
      "metadata": {}
    },
    {
      "id": "7faf6fb5-79b5-4df7-ad23-d02e40b31c65",
      "cell_type": "markdown",
      "source": "# Data add and remove into tuple",
      "metadata": {}
    },
    {
      "id": "c7ba3cca-120e-4321-a2c4-795221e1e921",
      "cell_type": "code",
      "source": "# we cannot change tuple so we can convert into list then change then tuple\nt = (1, 2, 3, 4)\n# t.append() -> impossible\n\nprint(\"Data of t:\", t)\nprint(\"Type of t:\", type(t))\n\n\n#convert to list\nx = list(t)\nprint(\"\\nData of x:\", x)\nprint(\"Type of x:\", type(x))\n\n#add and remove data\nx.append(5)\nx.remove(1)\n\n#convert to tuple\nt = tuple(x)\nprint(\"\\nAfter change of t:\")\nprint(\"Data of t:\", t)\nprint(\"Type of t:\", type(t))\n",
      "metadata": {
        "trusted": true
      },
      "outputs": [
        {
          "name": "stdout",
          "text": "Data of t: (1, 2, 3, 4)\nType of t: <class 'tuple'>\n\nData of x: [1, 2, 3, 4]\nType of x: <class 'list'>\n\nAfter change of t:\nData of t: (2, 3, 4, 5)\nType of t: <class 'tuple'>\n",
          "output_type": "stream"
        }
      ],
      "execution_count": 11
    },
    {
      "id": "ba55eba1-fa26-45ed-83f9-6592626e0932",
      "cell_type": "code",
      "source": "",
      "metadata": {
        "trusted": true
      },
      "outputs": [],
      "execution_count": null
    }
  ]
}