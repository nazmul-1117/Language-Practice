{
  "metadata": {
    "kernelspec": {
      "name": "python",
      "display_name": "Python (Pyodide)",
      "language": "python"
    },
    "language_info": {
      "codemirror_mode": {
        "name": "python",
        "version": 3
      },
      "file_extension": ".py",
      "mimetype": "text/x-python",
      "name": "python",
      "nbconvert_exporter": "python",
      "pygments_lexer": "ipython3",
      "version": "3.8"
    }
  },
  "nbformat_minor": 4,
  "nbformat": 4,
  "cells": [
    {
      "cell_type": "markdown",
      "source": "# Dictonary basic",
      "metadata": {}
    },
    {
      "cell_type": "markdown",
      "source": "# create dict",
      "metadata": {
        "jp-MarkdownHeadingCollapsed": true
      }
    },
    {
      "cell_type": "code",
      "source": "d = {\n    \"name\" : \"Nazmul\",\n    \"age\" : 22,\n    \"address\" : {\n        \"village\" : {\n            \"name\" : \"Shreedharpur 😙\",\n            \"road\" : \"Pakar Matha 😊\"\n        },\n        \"post\" : \"Tilakpur\",\n        \"district\" : \"Naogaon\",\n        \"division\" : \"Rajshahi\"\n    },\n    \"marks\" : [20, 24, 17, 25, 26],\n    \"education\" : (\"BSc.\", \"CSE\", 223002089, 4.53)\n}",
      "metadata": {
        "trusted": true
      },
      "outputs": [],
      "execution_count": 12
    },
    {
      "cell_type": "code",
      "source": "print(f\"Print all data: {d}\")\n\nprint( f\"\\n\\nPrint village data {d[\"address\"][\"village\"][\"road\"]}\"  )",
      "metadata": {
        "trusted": true
      },
      "outputs": [
        {
          "name": "stdout",
          "text": "Print all data: {'name': 'Nazmul', 'age': 22, 'address': {'village': {'name': 'Shreedharpur 😙', 'road': 'Pakar Matha 😊'}, 'post': 'Tilakpur', 'district': 'Naogaon', 'division': 'Rajshahi'}, 'marks': [20, 24, 17, 25, 26], 'education': ('BSc.', 'CSE', 223002089, 4.53)}\n\n\nPrint single data Pakar Matha 😊\n",
          "output_type": "stream"
        }
      ],
      "execution_count": 13
    },
    {
      "cell_type": "code",
      "source": "print( f\"Print marks data {   d[\"marks\"][1]  }\"  )\nprint( f\"\\nPrint equcation data {   d[\"education\"][2]  }\"  )",
      "metadata": {
        "trusted": true
      },
      "outputs": [
        {
          "name": "stdout",
          "text": "Print marks data 24\n\nPrint equcation data 223002089\n",
          "output_type": "stream"
        }
      ],
      "execution_count": 15
    },
    {
      "cell_type": "code",
      "source": "print(type(d));",
      "metadata": {
        "trusted": true
      },
      "outputs": [
        {
          "name": "stdout",
          "text": "<class 'dict'>\n",
          "output_type": "stream"
        }
      ],
      "execution_count": 16
    },
    {
      "cell_type": "code",
      "source": "d[\"route\"] = 3;\nprint(f\"Print all data: {d}\")\nprint(\"Dictionary Length:\",len(d))",
      "metadata": {
        "trusted": true
      },
      "outputs": [
        {
          "name": "stdout",
          "text": "Print all data: {'name': 'Nazmul', 'age': 22, 'address': {'village': {'name': 'Shreedharpur 😙', 'road': 'Pakar Matha 😊'}, 'post': 'Tilakpur', 'district': 'Naogaon', 'division': 'Rajshahi'}, 'marks': [20, 24, 17, 25, 26], 'education': ('BSc.', 'CSE', 223002089, 4.53), 'route': 3}\nDictionary Length: 6\n",
          "output_type": "stream"
        }
      ],
      "execution_count": 19
    },
    {
      "cell_type": "markdown",
      "source": "# Dictonary Comprehensive",
      "metadata": {}
    },
    {
      "cell_type": "code",
      "source": "d2 = {\n    x : x * x for x in range(5)\n}\n\nprint(d2)",
      "metadata": {
        "trusted": true
      },
      "outputs": [
        {
          "name": "stdout",
          "text": "{0: 0, 1: 1, 2: 4, 3: 9, 4: 16, 'name': 'Nazmul'}\n",
          "output_type": "stream"
        }
      ],
      "execution_count": 31
    },
    {
      "cell_type": "markdown",
      "source": "# Dictonary Data remove",
      "metadata": {}
    },
    {
      "cell_type": "code",
      "source": "d2['name'] = 'Nazmul';\nprint(f'Dict Full data: {d2}');\n\na = d2.pop('name');\n\nprint(f'Removed data: {a}')\nprint(f'After Pop data: {d2}');",
      "metadata": {
        "trusted": true
      },
      "outputs": [
        {
          "name": "stdout",
          "text": "Dict Full data: {0: 0, 1: 1, 2: 4, 3: 9, 4: 16, 'name': 'Nazmul'}\nRemoved data: Nazmul\nAfter Pop data: {0: 0, 1: 1, 2: 4, 3: 9, 4: 16}\n",
          "output_type": "stream"
        }
      ],
      "execution_count": 36
    },
    {
      "cell_type": "markdown",
      "source": "# Delete data",
      "metadata": {}
    },
    {
      "cell_type": "code",
      "source": "d3 = {\n    1 : 1,\n    2 : 2,\n    3 : 3\n}\nprint(f'Dict Full data: {d3}');\n\ndel d3[2]\nprint(f'After Pop data: {d3}');\n",
      "metadata": {
        "trusted": true
      },
      "outputs": [
        {
          "name": "stdout",
          "text": "Dict Full data: {1: 1, 2: 2, 3: 3}\nAfter Pop data: {1: 1, 3: 3}\n",
          "output_type": "stream"
        }
      ],
      "execution_count": 38
    },
    {
      "cell_type": "code",
      "source": "",
      "metadata": {
        "trusted": true
      },
      "outputs": [],
      "execution_count": null
    }
  ]
}