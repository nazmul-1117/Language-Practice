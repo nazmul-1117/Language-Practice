{
  "metadata": {
    "kernelspec": {
      "name": "python",
      "display_name": "Python (Pyodide)",
      "language": "python"
    },
    "language_info": {
      "codemirror_mode": {
        "name": "python",
        "version": 3
      },
      "file_extension": ".py",
      "mimetype": "text/x-python",
      "name": "python",
      "nbconvert_exporter": "python",
      "pygments_lexer": "ipython3",
      "version": "3.8"
    }
  },
  "nbformat_minor": 4,
  "nbformat": 4,
  "cells": [
    {
      "cell_type": "markdown",
      "source": "# List Method",
      "metadata": {}
    },
    {
      "cell_type": "code",
      "source": "l = [7, 17, 'Nazmul', 7.7, 17.17]",
      "metadata": {
        "trusted": true
      },
      "outputs": [],
      "execution_count": 14
    },
    {
      "cell_type": "markdown",
      "source": "# apeend --> push_back()",
      "metadata": {}
    },
    {
      "cell_type": "code",
      "source": "print(f'Original List: {l}');\nl.append(True)\nprint(f'After appemd {l}');\n\nl.reverse();\nprint(f'\\nReverse: {l}')",
      "metadata": {
        "trusted": true
      },
      "outputs": [
        {
          "name": "stdout",
          "text": "Original List: [7, 17, 'Nazmul', 7.7, 17.17]\nAfter appemd [7, 17, 'Nazmul', 7.7, 17.17, True]\n\nReverse: [True, 17.17, 7.7, 'Nazmul', 17, 7]\n",
          "output_type": "stream"
        }
      ],
      "execution_count": 15
    },
    {
      "cell_type": "markdown",
      "source": "# list sort and reverse sort",
      "metadata": {}
    },
    {
      "cell_type": "code",
      "source": "l1 = [5.5, 1, 3, 2.1, 1.3, 5.7, 7, 3]\nprint(f'Before sort {l1}');\n\nl1.sort();\nprint(f'After Sort {l1}');\n\nl1.sort(reverse=True)\nprint(f'Reverse sort {l1}');\n\nl2 = ['Juckfruit', 'Banana', 'Capsicum', 'Orange', 'Apple', 'Lemon'];\nl2.sort();\nprint(f'\\nAfter Sort {l2}');",
      "metadata": {
        "trusted": true
      },
      "outputs": [
        {
          "name": "stdout",
          "text": "Before sort [5.5, 1, 3, 2.1, 1.3, 5.7, 7, 3]\nAfter Sort [1, 1.3, 2.1, 3, 3, 5.5, 5.7, 7]\nReverse sort [7, 5.7, 5.5, 3, 3, 2.1, 1.3, 1]\n\nAfter Sort ['Apple', 'Banana', 'Capsicum', 'Juckfruit', 'Lemon', 'Orange']\n",
          "output_type": "stream"
        }
      ],
      "execution_count": 16
    },
    {
      "cell_type": "markdown",
      "source": "# insert, pop, remove",
      "metadata": {}
    },
    {
      "cell_type": "code",
      "source": "#insert\nl3 = [1, 2, 3, 0, 6, 5 , 3];\nl3.insert(0, 99) #insert 99 at index 0\nprint(f'After Insert: {l3}');\n\n",
      "metadata": {
        "trusted": true
      },
      "outputs": [
        {
          "name": "stdout",
          "text": "After Insert: [99, 1, 2, 3, 0, 6, 5, 3]\n",
          "output_type": "stream"
        }
      ],
      "execution_count": 17
    },
    {
      "cell_type": "code",
      "source": "#Remove\nl4 = [1, 1, 2, 3];\nl4.remove(1) #remove first 1 remove(data)\nprint(f'After Remove: {l4}');",
      "metadata": {
        "trusted": true
      },
      "outputs": [
        {
          "name": "stdout",
          "text": "After Remove: [1, 2, 3]\n",
          "output_type": "stream"
        }
      ],
      "execution_count": 19
    },
    {
      "cell_type": "code",
      "source": "#Pop\nl5 = [1, 1, 2, 3];\nl5.pop(0) #remove 0 index data pop(index)\nprint(f'After Pop: {l5}');",
      "metadata": {
        "trusted": true
      },
      "outputs": [
        {
          "name": "stdout",
          "text": "After Pop: [1, 2, 3]\n",
          "output_type": "stream"
        }
      ],
      "execution_count": 20
    },
    {
      "cell_type": "markdown",
      "source": "# check data in list",
      "metadata": {}
    },
    {
      "cell_type": "code",
      "source": "l6 = [1, 2, 3]\n2 in l6",
      "metadata": {
        "trusted": true
      },
      "outputs": [
        {
          "execution_count": 6,
          "output_type": "execute_result",
          "data": {
            "text/plain": "True"
          },
          "metadata": {}
        }
      ],
      "execution_count": 6
    },
    {
      "cell_type": "code",
      "source": "",
      "metadata": {
        "trusted": true
      },
      "outputs": [],
      "execution_count": null
    },
    {
      "cell_type": "code",
      "source": "",
      "metadata": {
        "trusted": true
      },
      "outputs": [],
      "execution_count": null
    },
    {
      "cell_type": "code",
      "source": "",
      "metadata": {
        "trusted": true
      },
      "outputs": [],
      "execution_count": null
    }
  ]
}