{
  "metadata": {
    "kernelspec": {
      "name": "python",
      "display_name": "Python (Pyodide)",
      "language": "python"
    },
    "language_info": {
      "codemirror_mode": {
        "name": "python",
        "version": 3
      },
      "file_extension": ".py",
      "mimetype": "text/x-python",
      "name": "python",
      "nbconvert_exporter": "python",
      "pygments_lexer": "ipython3",
      "version": "3.8"
    }
  },
  "nbformat_minor": 4,
  "nbformat": 4,
  "cells": [
    {
      "cell_type": "markdown",
      "source": "# List Practice",
      "metadata": {}
    },
    {
      "cell_type": "markdown",
      "source": "# 1.1 marks Score above of 80",
      "metadata": {
        "jp-MarkdownHeadingCollapsed": true
      }
    },
    {
      "cell_type": "code",
      "source": "l = [55, 89, 76, 65, 93, 50, 72, 85, 69, 79, 80, 88, 44, 99];\nl2 = [];\nn = len(l);\n\n\nfor i in range(n):\n    if l[i] >= 80:\n        l2.append(l[i]);\n\n    else:\n        pass;\n\nl2.sort();\nprint(l2);\n\n\n",
      "metadata": {
        "trusted": true
      },
      "outputs": [
        {
          "name": "stdout",
          "text": "[80, 85, 88, 89, 93, 99]\n",
          "output_type": "stream"
        }
      ],
      "execution_count": 4
    },
    {
      "cell_type": "markdown",
      "source": "# 1. 2 Question: Given the list numbers = [1, 2, 3, 4, 5, 6, 7, 8, 9, 10], write Python expressions to:\n\n# Create a new list with the first half and the second half swapped.\n# Print the sum of the last three elements.",
      "metadata": {
        "jp-MarkdownHeadingCollapsed": true
      }
    },
    {
      "cell_type": "code",
      "source": "#input:\n#numbers = [1, 2, 3, 4, 5, 6, 7, 8, 9, 10]\n\n#output:\n#27",
      "metadata": {
        "trusted": true
      },
      "outputs": [],
      "execution_count": 5
    },
    {
      "cell_type": "code",
      "source": "#1. Half reverse\nn = [1, 2, 3, 4, 5, 6, 7, 8, 9, 10]\nl = len(n);\nl = int(l/2); \n\nn1 = n[: l]\nn2 = n[l:]\n\n# n1.reverse();\n# n2.reverse();\n\nn3 = n2+n1;\nprint(f\"Before Reverse: {n}\");\n\n# Output: [6, 7, 8, 9, 10, 1, 2, 3, 4, 5]\nprint(f\"After Reverse: {n3}\");",
      "metadata": {
        "trusted": true
      },
      "outputs": [
        {
          "name": "stdout",
          "text": "Before Reverse: [1, 2, 3, 4, 5, 6, 7, 8, 9, 10]\nAfter Reverse: [6, 7, 8, 9, 10, 1, 2, 3, 4, 5]\n",
          "output_type": "stream"
        }
      ],
      "execution_count": 21
    },
    {
      "cell_type": "code",
      "source": "# Sum of last 3 data\nprint(f'Sum = {sum(n[-3::])}')",
      "metadata": {
        "trusted": true
      },
      "outputs": [
        {
          "name": "stdout",
          "text": "Sum = 27\n",
          "output_type": "stream"
        }
      ],
      "execution_count": 22
    },
    {
      "cell_type": "markdown",
      "source": "# 1.3 Remove blank space from list",
      "metadata": {
        "jp-MarkdownHeadingCollapsed": true
      }
    },
    {
      "cell_type": "code",
      "source": "my_list = [\"yes\", \"no\", \"maybe\", \" \"] * 5 \nprint(my_list)",
      "metadata": {
        "trusted": true
      },
      "outputs": [
        {
          "name": "stdout",
          "text": "['yes', 'no', 'maybe', ' ', 'yes', 'no', 'maybe', ' ', 'yes', 'no', 'maybe', ' ', 'yes', 'no', 'maybe', ' ', 'yes', 'no', 'maybe', ' ']\n",
          "output_type": "stream"
        }
      ],
      "execution_count": 24
    },
    {
      "cell_type": "code",
      "source": "yes = []\nno = []\nmaybe = []\nnew = []\nl = len(my_list)\n\nfor i in range(l):\n    if (my_list[i].lower()) == \"yes\":\n        yes.append(my_list[i]);\n\n    elif (my_list[i].lower()) == \"no\":\n        no.append(my_list[i]);\n    \n    elif (my_list[i].lower()) == \"maybe\":\n        maybe.append(my_list[i]);\n\n\n    t = my_list[i].lower();\n    if t == \"yes\" or t == \"no\" or t == \"maybe\":\n        new.append(t);\n\nprint(f\"Original List: {my_list}\")\nprint(f\"\\nYes: {yes}\")\nprint(f\"No: {no}\")\nprint(f\"Maybe: {maybe}\")\nprint(f\"\\nNew List: {new}\")\n    ",
      "metadata": {
        "trusted": true
      },
      "outputs": [
        {
          "name": "stdout",
          "text": "Original List: ['yes', 'no', 'maybe', ' ', 'yes', 'no', 'maybe', ' ', 'yes', 'no', 'maybe', ' ', 'yes', 'no', 'maybe', ' ', 'yes', 'no', 'maybe', ' ']\n\nYes: ['yes', 'yes', 'yes', 'yes', 'yes']\nNo: ['no', 'no', 'no', 'no', 'no']\nMaybe: ['maybe', 'maybe', 'maybe', 'maybe', 'maybe']\n\nNew List: ['yes', 'no', 'maybe', 'yes', 'no', 'maybe', 'yes', 'no', 'maybe', 'yes', 'no', 'maybe', 'yes', 'no', 'maybe']\n",
          "output_type": "stream"
        }
      ],
      "execution_count": 31
    },
    {
      "cell_type": "markdown",
      "source": "# 1.4 Given two section data, i should average this and compare which is better.",
      "metadata": {}
    },
    {
      "cell_type": "code",
      "source": "s1 = [65, 85, 81, 92, 77, 60, 99, 91, 70, 61, 87, 64, 95, 66, 96, 82, 89, 83, 78, 72, 90, 84, 88, 80, 63]\ns2 = [73, 63, 97, 77, 93, 68, 60, 96, 65, 86, 90, 83, 75, 81, 71, 85, 70, 74, 79, 78, 100, 95, 80, 88, 69]\n\navg1 = sum(s1)/len(s1);\navg2 = sum(s2)/len(s2);\n\nprint(f\"The average score of Section 1 is {avg1} and Section 2 is {avg2}\");\n\nif avg1 > avg2:\n    print(f\"Section 1 is the Best score {avg1} and Max is {max(s1)}\");\n\nelif avg1 < abg2:\n    print(f\"Section 2 is the Best score {avg2} and Max is {max(s2)}\");\n\nelse:\n    print(f\"Both Section are same score\");",
      "metadata": {
        "trusted": true
      },
      "outputs": [
        {
          "name": "stdout",
          "text": "The average score of Section 1 is 79.92 and Section 2 is 79.84\nSection 1 is the Best score 79.92 and Max is 99\n",
          "output_type": "stream"
        }
      ],
      "execution_count": 35
    },
    {
      "cell_type": "code",
      "source": "",
      "metadata": {
        "trusted": true
      },
      "outputs": [],
      "execution_count": null
    },
    {
      "cell_type": "code",
      "source": "",
      "metadata": {
        "trusted": true
      },
      "outputs": [],
      "execution_count": null
    },
    {
      "cell_type": "code",
      "source": "",
      "metadata": {
        "trusted": true
      },
      "outputs": [],
      "execution_count": null
    },
    {
      "cell_type": "code",
      "source": "",
      "metadata": {
        "trusted": true
      },
      "outputs": [],
      "execution_count": null
    },
    {
      "cell_type": "code",
      "source": "",
      "metadata": {
        "trusted": true
      },
      "outputs": [],
      "execution_count": null
    }
  ]
}