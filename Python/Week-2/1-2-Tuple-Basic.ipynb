{
  "metadata": {
    "kernelspec": {
      "name": "python",
      "display_name": "Python (Pyodide)",
      "language": "python"
    },
    "language_info": {
      "codemirror_mode": {
        "name": "python",
        "version": 3
      },
      "file_extension": ".py",
      "mimetype": "text/x-python",
      "name": "python",
      "nbconvert_exporter": "python",
      "pygments_lexer": "ipython3",
      "version": "3.8"
    }
  },
  "nbformat_minor": 4,
  "nbformat": 4,
  "cells": [
    {
      "cell_type": "markdown",
      "source": "# Tuple Basic",
      "metadata": {}
    },
    {
      "cell_type": "markdown",
      "source": "# create tuple",
      "metadata": {}
    },
    {
      "cell_type": "code",
      "source": "t = (7, 17, \"Nazmul\", 7.7, 17.17);\ntype(t);\nprint(t);",
      "metadata": {
        "trusted": true
      },
      "outputs": [
        {
          "name": "stdout",
          "text": "(7, 17, 'Nazmul', 7.7, 17.17)\n",
          "output_type": "stream"
        }
      ],
      "execution_count": 4
    },
    {
      "cell_type": "code",
      "source": "type(t)",
      "metadata": {
        "trusted": true
      },
      "outputs": [
        {
          "execution_count": 5,
          "output_type": "execute_result",
          "data": {
            "text/plain": "tuple"
          },
          "metadata": {}
        }
      ],
      "execution_count": 5
    },
    {
      "cell_type": "code",
      "source": "for i in t:\n    print(i)",
      "metadata": {
        "trusted": true
      },
      "outputs": [
        {
          "name": "stdout",
          "text": "7\n17\nNazmul\n7.7\n17.17\n",
          "output_type": "stream"
        }
      ],
      "execution_count": 6
    },
    {
      "cell_type": "code",
      "source": "new_t = (1)\nnew_x = (1,)\n\nprint(\"New Tupple (T)\", type(new_t));\nprint(f\"Data: {new_t}\")\n\nprint(\"\\nNew Tupple (X)\", type(new_x));\nprint(f\"Data: {new_x}\")",
      "metadata": {
        "trusted": true
      },
      "outputs": [
        {
          "name": "stdout",
          "text": "New Tupple (T) <class 'int'>\nData: 1\n\nNew Tupple (X) <class 'tuple'>\nData: (1,)\n",
          "output_type": "stream"
        }
      ],
      "execution_count": 7
    },
    {
      "cell_type": "markdown",
      "source": "# Tuple indexing",
      "metadata": {}
    },
    {
      "cell_type": "code",
      "source": "tx = (1, 2, 3);\nprint(tx[0])\nprint(tx[2])",
      "metadata": {
        "trusted": true
      },
      "outputs": [
        {
          "name": "stdout",
          "text": "1\n3\n",
          "output_type": "stream"
        }
      ],
      "execution_count": 26
    },
    {
      "cell_type": "markdown",
      "source": "# Tuple slicing",
      "metadata": {}
    },
    {
      "cell_type": "code",
      "source": "#positive index start with 0\nt2 = (0, 1, 2, 3, 4, 5, 6) \nprint(f'1-->4 { t2[ 1: 5] }' );\nprint(f'start-->2 { t2[ : 3] }' );\nprint(f'3-->end { t2[ 3: ] }' );\nprint()\n\nprint(f'Jump\\n1-->4 { t2[ : : 2] }' );\nprint(f'Reverse { t2[ : : -1 ] }' );\n",
      "metadata": {
        "trusted": true
      },
      "outputs": [
        {
          "name": "stdout",
          "text": "1-->4 (1, 2, 3, 4)\nstart-->2 (0, 1, 2)\n3-->end (3, 4, 5, 6)\n\nJump\n1-->4 (0, 2, 4, 6)\nReverse (6, 5, 4, 3, 2, 1, 0)\n",
          "output_type": "stream"
        }
      ],
      "execution_count": 23
    },
    {
      "cell_type": "code",
      "source": "# Negative slice start with -1 index\nt3 = (0, 1, 2, 3, 4, 5, 6) \nprint(f'3-->5 { t3[ -4: -1] }' );\nprint(f'start-->2 { t3[ : -4] }' );\nprint(f'3-->end { t3[ -4: ] }' );\nprint()\n\nprint(f'Revrse with Jump: { t3[ : : -2] }' );",
      "metadata": {
        "trusted": true
      },
      "outputs": [
        {
          "name": "stdout",
          "text": "3-->5 (3, 4, 5)\nstart-->2 (0, 1, 2)\n3-->end (3, 4, 5, 6)\n\nRevrse with Jump: (6, 4, 2, 0)\n",
          "output_type": "stream"
        }
      ],
      "execution_count": 25
    },
    {
      "cell_type": "code",
      "source": "",
      "metadata": {
        "trusted": true
      },
      "outputs": [],
      "execution_count": null
    }
  ]
}