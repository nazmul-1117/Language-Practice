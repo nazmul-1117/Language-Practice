{
  "metadata": {
    "kernelspec": {
      "name": "python",
      "display_name": "Python (Pyodide)",
      "language": "python"
    },
    "language_info": {
      "codemirror_mode": {
        "name": "python",
        "version": 3
      },
      "file_extension": ".py",
      "mimetype": "text/x-python",
      "name": "python",
      "nbconvert_exporter": "python",
      "pygments_lexer": "ipython3",
      "version": "3.8"
    },
    "colab": {
      "provenance": []
    }
  },
  "nbformat_minor": 5,
  "nbformat": 4,
  "cells": [
    {
      "id": "9475385e-a7f7-49a8-9e92-0aa46a06ae32",
      "cell_type": "markdown",
      "source": [
        "# Sets Basic"
      ],
      "metadata": {
        "id": "9475385e-a7f7-49a8-9e92-0aa46a06ae32"
      }
    },
    {
      "id": "8269cc5e-c5a7-40f9-b88e-122c0ae9222a",
      "cell_type": "markdown",
      "source": [
        "# 1. Set create and indexing"
      ],
      "metadata": {
        "id": "8269cc5e-c5a7-40f9-b88e-122c0ae9222a"
      }
    },
    {
      "id": "909108a8-41ff-4d9f-912e-c51272ecaa65",
      "cell_type": "code",
      "source": [
        "s = {1, 2, 3}\n",
        "\n",
        "print(s)\n",
        "print(type(s))\n",
        "\n",
        "# set has no index, non order\n",
        "# print(s[1])\n",
        "\n",
        "# it has no duplicate data\n",
        "s = {1, 2, 2, 3, 1, 2, 3}\n",
        "print(s)\n"
      ],
      "metadata": {
        "trusted": true,
        "colab": {
          "base_uri": "https://localhost:8080/"
        },
        "id": "909108a8-41ff-4d9f-912e-c51272ecaa65",
        "outputId": "5b8c2db6-1e42-4bac-9f88-4c494e810a3b"
      },
      "outputs": [
        {
          "output_type": "stream",
          "name": "stdout",
          "text": [
            "{1, 2, 3}\n",
            "<class 'set'>\n",
            "{1, 2, 3}\n"
          ]
        }
      ],
      "execution_count": null
    },
    {
      "cell_type": "markdown",
      "source": [
        "# 2. empty set"
      ],
      "metadata": {
        "id": "em7mZRjwgp9h"
      },
      "id": "em7mZRjwgp9h"
    },
    {
      "cell_type": "code",
      "source": [
        "s2 = set()\n",
        "print(s2)\n",
        "print(type(s2))\n"
      ],
      "metadata": {
        "colab": {
          "base_uri": "https://localhost:8080/"
        },
        "id": "KBWlSeXHgaYd",
        "outputId": "778c57ff-ea76-44f8-ba1d-dc5eabe8c4eb"
      },
      "id": "KBWlSeXHgaYd",
      "execution_count": null,
      "outputs": [
        {
          "output_type": "stream",
          "name": "stdout",
          "text": [
            "set()\n",
            "<class 'set'>\n"
          ]
        }
      ]
    },
    {
      "cell_type": "markdown",
      "source": [
        "# 3. Boolean in set"
      ],
      "metadata": {
        "id": "_ORGbENqLBih"
      },
      "id": "_ORGbENqLBih"
    },
    {
      "cell_type": "code",
      "source": [
        "s3 = {1, True, False, 1, 0}\n",
        "print(s3)\n"
      ],
      "metadata": {
        "id": "FexPEyK7g09z",
        "colab": {
          "base_uri": "https://localhost:8080/"
        },
        "outputId": "321e9562-b641-47fb-8fd9-d5f9107812de"
      },
      "id": "FexPEyK7g09z",
      "execution_count": 2,
      "outputs": [
        {
          "output_type": "stream",
          "name": "stdout",
          "text": [
            "{False, 1}\n"
          ]
        }
      ]
    },
    {
      "cell_type": "markdown",
      "source": [
        "# 4. Check data is present or not"
      ],
      "metadata": {
        "id": "-mLZ8wFcNHNl"
      },
      "id": "-mLZ8wFcNHNl"
    },
    {
      "cell_type": "code",
      "source": [
        "s4 = {1, 2, 3, 4, 5}\n",
        "print(3 in s4);\n",
        "print(6 in s4);\n"
      ],
      "metadata": {
        "colab": {
          "base_uri": "https://localhost:8080/"
        },
        "id": "2P5auYDVLKIX",
        "outputId": "59973ded-884c-4922-9c75-104fad87d804"
      },
      "id": "2P5auYDVLKIX",
      "execution_count": 4,
      "outputs": [
        {
          "output_type": "stream",
          "name": "stdout",
          "text": [
            "True\n",
            "False\n"
          ]
        }
      ]
    },
    {
      "cell_type": "code",
      "source": [],
      "metadata": {
        "id": "jnoK0pTTNYSh"
      },
      "id": "jnoK0pTTNYSh",
      "execution_count": null,
      "outputs": []
    }
  ]
}