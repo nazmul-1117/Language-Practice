{
  "nbformat": 4,
  "nbformat_minor": 0,
  "metadata": {
    "colab": {
      "provenance": []
    },
    "kernelspec": {
      "name": "python3",
      "display_name": "Python 3"
    },
    "language_info": {
      "name": "python"
    }
  },
  "cells": [
    {
      "cell_type": "markdown",
      "source": [
        "# Dictionary Method"
      ],
      "metadata": {
        "id": "E5tnlDbPS0TK"
      }
    },
    {
      "cell_type": "markdown",
      "source": [
        "# 1. keys method --> return all the keys"
      ],
      "metadata": {
        "id": "2XUgPvV-VzIs"
      }
    },
    {
      "cell_type": "code",
      "source": [
        "d  = {\n",
        "    1 : \"a\",\n",
        "    2 : \"b\",\n",
        "    3 : \"c\",\n",
        "    4 : {\n",
        "        \"x\" : \"xxx\",\n",
        "        \"y\" : \"yyy\",\n",
        "        \"z\" : \"zzz\"\n",
        "    }\n",
        "}\n",
        "\n",
        "print(f\"Dictionary all keys: {d.keys()}\")\n",
        "\n",
        "#convert dictionary keys to list\n",
        "print(f\"Dictionary keys to list: {list(d.keys())}\")"
      ],
      "metadata": {
        "colab": {
          "base_uri": "https://localhost:8080/"
        },
        "id": "B76xcTsnVe7F",
        "outputId": "8e577cab-ca16-4275-8f84-b7b34b2f1a6a"
      },
      "execution_count": 6,
      "outputs": [
        {
          "output_type": "stream",
          "name": "stdout",
          "text": [
            "Dictionary all keys: dict_keys([1, 2, 3, 4])\n",
            "Dictionary keys to list: [1, 2, 3, 4]\n"
          ]
        }
      ]
    },
    {
      "cell_type": "markdown",
      "source": [
        "# 2. values method --> return all value"
      ],
      "metadata": {
        "id": "PvdMAuYpVx8G"
      }
    },
    {
      "cell_type": "code",
      "source": [
        "print(f\"Dictionary all Values: {d.values()}\")\n",
        "\n",
        "#convert distionary values to tuple\n",
        "print(f\"Dictionary values to tuple: {tuple(d.values())}\")"
      ],
      "metadata": {
        "colab": {
          "base_uri": "https://localhost:8080/"
        },
        "id": "tRTs4fxBWWv5",
        "outputId": "3ee08b74-edb5-4b7a-ee5b-868f426f4bd2"
      },
      "execution_count": 7,
      "outputs": [
        {
          "output_type": "stream",
          "name": "stdout",
          "text": [
            "Dictionary all Values: dict_values(['a', 'b', 'c', {'x': 'xxx', 'y': 'yyy', 'z': 'zzz'}])\n",
            "Dictionary values to tuple: ('a', 'b', 'c', {'x': 'xxx', 'y': 'yyy', 'z': 'zzz'})\n"
          ]
        }
      ]
    },
    {
      "cell_type": "markdown",
      "source": [
        "# 3. items method --> return all (keys : value) as pair"
      ],
      "metadata": {
        "id": "QifR5s-gXdJk"
      }
    },
    {
      "cell_type": "code",
      "source": [
        "d2 = {\n",
        "    1 : \"a\",\n",
        "    2 : \"b\",\n",
        "    3 : \"c\",\n",
        "    4 : {\n",
        "        \"x\" : \"xxx\",\n",
        "        \"y\" : \"yyy\",\n",
        "        \"z\" : \"zzz\"\n",
        "    }\n",
        "}\n",
        "\n",
        "print(f\"Dictionary all items: {d2.items()}\")\n",
        "\n",
        "#convert distionary items to tuple\n",
        "print(f\"Dictionary items to tuple: {tuple(d2.items())}\")"
      ],
      "metadata": {
        "colab": {
          "base_uri": "https://localhost:8080/"
        },
        "id": "ROiq4-4qWsDq",
        "outputId": "b3034da5-6b81-4991-a33d-54a11f7fe3eb"
      },
      "execution_count": 8,
      "outputs": [
        {
          "output_type": "stream",
          "name": "stdout",
          "text": [
            "Dictionary all items: dict_items([(1, 'a'), (2, 'b'), (3, 'c'), (4, {'x': 'xxx', 'y': 'yyy', 'z': 'zzz'})])\n",
            "Dictionary items to tuple: ((1, 'a'), (2, 'b'), (3, 'c'), (4, {'x': 'xxx', 'y': 'yyy', 'z': 'zzz'}))\n"
          ]
        }
      ]
    },
    {
      "cell_type": "markdown",
      "source": [
        "# 4. Get method in dictionary"
      ],
      "metadata": {
        "id": "Unz72SmAX52G"
      }
    },
    {
      "cell_type": "code",
      "source": [
        "d3 = {\n",
        "    1 : \"a\",\n",
        "    2 : \"b\",\n",
        "    3 : \"c\",\n",
        "    4 : {\n",
        "        \"x\" : \"xxx\",\n",
        "        \"y\" : \"yyy\",\n",
        "        \"z\" : \"zzz\"\n",
        "    }\n",
        "}\n",
        "\n",
        "# i can use d3[4] but is key not found then it shows an error\n",
        "\n",
        "print(f\"Dictionary get method: {d3.get(4)}\")"
      ],
      "metadata": {
        "colab": {
          "base_uri": "https://localhost:8080/"
        },
        "id": "I3g-aPxIXslL",
        "outputId": "e32d5a44-0698-41e6-a30e-ff80aec90f52"
      },
      "execution_count": 9,
      "outputs": [
        {
          "output_type": "stream",
          "name": "stdout",
          "text": [
            "Dictionary get method: {'x': 'xxx', 'y': 'yyy', 'z': 'zzz'}\n"
          ]
        }
      ]
    },
    {
      "cell_type": "markdown",
      "source": [
        "# 5. Update method in dictionary"
      ],
      "metadata": {
        "id": "-ww5ZoFyYno0"
      }
    },
    {
      "cell_type": "code",
      "source": [
        "x = {\n",
        "    \"name\" : \"Nazmul\"\n",
        "}\n",
        "\n",
        "d3.update(x)\n",
        "print(f\"Dictionary update method: {d3}\")"
      ],
      "metadata": {
        "colab": {
          "base_uri": "https://localhost:8080/"
        },
        "id": "yX97gITrYGAm",
        "outputId": "5cbc0a3c-1dd9-4ad2-e0aa-5048ba4c895f"
      },
      "execution_count": 10,
      "outputs": [
        {
          "output_type": "stream",
          "name": "stdout",
          "text": [
            "Dictionary update method: {1: 'a', 2: 'b', 3: 'c', 4: {'x': 'xxx', 'y': 'yyy', 'z': 'zzz'}, 'name': 'Nazmul'}\n"
          ]
        }
      ]
    },
    {
      "cell_type": "code",
      "source": [],
      "metadata": {
        "id": "B_bZNPcSZQ70"
      },
      "execution_count": null,
      "outputs": []
    }
  ]
}