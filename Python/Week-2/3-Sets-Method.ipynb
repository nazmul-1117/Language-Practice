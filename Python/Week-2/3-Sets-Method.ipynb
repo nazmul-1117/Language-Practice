{
  "nbformat": 4,
  "nbformat_minor": 0,
  "metadata": {
    "colab": {
      "provenance": []
    },
    "kernelspec": {
      "name": "python3",
      "display_name": "Python 3"
    },
    "language_info": {
      "name": "python"
    }
  },
  "cells": [
    {
      "cell_type": "markdown",
      "source": [
        "# Sets method"
      ],
      "metadata": {
        "id": "vwkWuJY4N3vX"
      }
    },
    {
      "cell_type": "markdown",
      "source": [
        "# 1. Add method"
      ],
      "metadata": {
        "id": "-HZmdXjLN8jX"
      }
    },
    {
      "cell_type": "code",
      "execution_count": 1,
      "metadata": {
        "colab": {
          "base_uri": "https://localhost:8080/"
        },
        "id": "5mYyj8G_NtNT",
        "outputId": "5f718c30-626f-4ad8-968a-9e55c2ee197b"
      },
      "outputs": [
        {
          "output_type": "stream",
          "name": "stdout",
          "text": [
            "Before add: {1, 2, 3, 4, 5}\n",
            "After add: {1, 2, 3, 4, 5, 6}\n"
          ]
        }
      ],
      "source": [
        "s1 = {1, 2, 3, 4, 5}\n",
        "print(f\"Before add: {s1}\")\n",
        "\n",
        "s1.add(6)\n",
        "print(f\"After add: {s1}\")"
      ]
    },
    {
      "cell_type": "markdown",
      "source": [
        "# 2. Remove method"
      ],
      "metadata": {
        "id": "7ahVyu1DPR_c"
      }
    },
    {
      "cell_type": "code",
      "source": [
        "s2 = {1, 2, 3, 4, 5}\n",
        "print(f\"Before remove: {s2}\")\n",
        "\n",
        "s2.remove(3)\n",
        "print(f\"After remove: {s2}\")"
      ],
      "metadata": {
        "colab": {
          "base_uri": "https://localhost:8080/"
        },
        "id": "B6zcCIGON6RH",
        "outputId": "4d28f1d0-28dd-493b-bbac-8e10d879e05f"
      },
      "execution_count": 2,
      "outputs": [
        {
          "output_type": "stream",
          "name": "stdout",
          "text": [
            "Before remove: {1, 2, 3, 4, 5}\n",
            "After remove: {1, 2, 4, 5}\n"
          ]
        }
      ]
    },
    {
      "cell_type": "markdown",
      "source": [
        "# 3. Pop method --> remove randomly"
      ],
      "metadata": {
        "id": "1nhTHQUqPn7j"
      }
    },
    {
      "cell_type": "code",
      "source": [
        "s3 = {1, 2, 3, 4, 5}\n",
        "print(f\"Before pop: {s3}\")\n",
        "\n",
        "s3.pop()\n",
        "print(f\"After pop: {s3}\")"
      ],
      "metadata": {
        "colab": {
          "base_uri": "https://localhost:8080/"
        },
        "id": "LwZjGirQPaO_",
        "outputId": "34fd91db-fb35-479a-ee70-e7670eb44918"
      },
      "execution_count": 5,
      "outputs": [
        {
          "output_type": "stream",
          "name": "stdout",
          "text": [
            "Before pop: {1, 2, 3, 4, 5}\n",
            "After pop: {2, 3, 4, 5}\n"
          ]
        }
      ]
    },
    {
      "cell_type": "markdown",
      "source": [
        "# 4. clear method --> clear the set"
      ],
      "metadata": {
        "id": "5P2KCvHvP43G"
      }
    },
    {
      "cell_type": "code",
      "source": [
        "s4 = {1, 2, 3, 4, 5}\n",
        "print(f\"Before clear: {s4}\")\n",
        "\n",
        "s4.clear()\n",
        "print(f\"After clear: {s4}\")"
      ],
      "metadata": {
        "colab": {
          "base_uri": "https://localhost:8080/"
        },
        "id": "9DcxhJkNPvKS",
        "outputId": "9432f916-59d6-4dc8-d07a-ee282d6c131a"
      },
      "execution_count": 6,
      "outputs": [
        {
          "output_type": "stream",
          "name": "stdout",
          "text": [
            "Before clear: {1, 2, 3, 4, 5}\n",
            "After clear: set()\n"
          ]
        }
      ]
    },
    {
      "cell_type": "markdown",
      "source": [
        "# 5. Delete set"
      ],
      "metadata": {
        "id": "gtCnWxMjQES5"
      }
    },
    {
      "cell_type": "code",
      "source": [
        "s5 = {1, 2, 3, 4, 5}\n",
        "print(f\"Before delete: {s5}\")\n",
        "\n",
        "del s5\n",
        "# print(f\"After delete: {s5}\")"
      ],
      "metadata": {
        "colab": {
          "base_uri": "https://localhost:8080/"
        },
        "id": "gjnRox15QBwe",
        "outputId": "66e169f4-a04d-4835-eb05-ec1f3b1bc1e6"
      },
      "execution_count": 8,
      "outputs": [
        {
          "output_type": "stream",
          "name": "stdout",
          "text": [
            "Before delete: {1, 2, 3, 4, 5}\n"
          ]
        }
      ]
    },
    {
      "cell_type": "markdown",
      "source": [
        " # 6. Sets Union"
      ],
      "metadata": {
        "id": "fsCxk30iQZYU"
      }
    },
    {
      "cell_type": "code",
      "source": [
        "s6 = {1, 2, 3}\n",
        "s7 = {2, 4, 6}\n",
        "\n",
        "print(f\"S6 set: {s6}\")\n",
        "print(f\"S7 set: {s7}\")\n",
        "\n",
        "print(f\"Union of s6 and s7: {s6.union(s7)}\")\n"
      ],
      "metadata": {
        "colab": {
          "base_uri": "https://localhost:8080/"
        },
        "id": "1ZZYVGF9QKGw",
        "outputId": "79c54f12-7cba-4a7b-f915-8a9e71cd45c2"
      },
      "execution_count": 9,
      "outputs": [
        {
          "output_type": "stream",
          "name": "stdout",
          "text": [
            "S6 set: {1, 2, 3}\n",
            "S7 set: {2, 4, 6}\n",
            "Union of s6 and s7: {1, 2, 3, 4, 6}\n"
          ]
        }
      ]
    },
    {
      "cell_type": "markdown",
      "source": [
        "# 7. Intersection Set"
      ],
      "metadata": {
        "id": "5-Yo_PcUQ-Q_"
      }
    },
    {
      "cell_type": "code",
      "source": [
        "s8 = {1, 2, 3}\n",
        "s9 = {2, 4, 6}\n",
        "\n",
        "print(f\"S8 set: {s8}\")\n",
        "print(f\"S9 set: {s9}\")\n",
        "\n",
        "print(f\"Intersection of s8 and s9: {s8.intersection(s9)}\")\n"
      ],
      "metadata": {
        "colab": {
          "base_uri": "https://localhost:8080/"
        },
        "id": "RSsTsaPNQ8YF",
        "outputId": "a577cbfc-f1e8-414b-d750-e65ef11d2a8d"
      },
      "execution_count": 10,
      "outputs": [
        {
          "output_type": "stream",
          "name": "stdout",
          "text": [
            "S8 set: {1, 2, 3}\n",
            "S9 set: {2, 4, 6}\n",
            "Intersection of s8 and s9: {2}\n"
          ]
        }
      ]
    },
    {
      "cell_type": "code",
      "source": [],
      "metadata": {
        "id": "Rfljl2AuRS4y"
      },
      "execution_count": null,
      "outputs": []
    }
  ]
}