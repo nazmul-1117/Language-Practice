{
  "metadata": {
    "kernelspec": {
      "name": "python",
      "display_name": "Python (Pyodide)",
      "language": "python"
    },
    "language_info": {
      "codemirror_mode": {
        "name": "python",
        "version": 3
      },
      "file_extension": ".py",
      "mimetype": "text/x-python",
      "name": "python",
      "nbconvert_exporter": "python",
      "pygments_lexer": "ipython3",
      "version": "3.8"
    }
  },
  "nbformat_minor": 4,
  "nbformat": 4,
  "cells": [
    {
      "cell_type": "markdown",
      "source": "# List",
      "metadata": {}
    },
    {
      "cell_type": "markdown",
      "source": "# createing & indexing",
      "metadata": {}
    },
    {
      "cell_type": "code",
      "source": "l1 = [5, 4, 8, 9, 10, 29, 1, 3, 2, 7, 99, 0];\nl2 = [1.1, 2.1, 1.5, 2.66, 5.12];\nl3 = [\"Md. \", \"Nazmul \", \"Hossain\"];\nl4 = [7, 99.99, \"Nazmul\", 223, True, 0.5];\n\nprint(l1);\nprint(l2);\nprint(l3);\nprint(l4);\nprint(type(l4));",
      "metadata": {
        "trusted": true
      },
      "outputs": [
        {
          "name": "stdout",
          "text": "[5, 4, 8, 9, 10, 29, 1, 3, 2, 7, 99, 0]\n[1.1, 2.1, 1.5, 2.66, 5.12]\n['Md. ', 'Nazmul ', 'Hossain']\n[7, 99.99, 'Nazmul', 223, True, 0.5]\n<class 'list'>\n",
          "output_type": "stream"
        }
      ],
      "execution_count": 8
    },
    {
      "cell_type": "markdown",
      "source": "# indexing",
      "metadata": {}
    },
    {
      "cell_type": "code",
      "source": "ln = len(l4)-1;\n\nprint( f'List Original: { l4[ : : ] }' );\nprint( f'List Reverse: { l4[ : : -1] }' );\n\nprint( f'\\nList Slice first: { l4[ : 4] }' );\nprint( f'List Slice last: { l4[ 3: ] }' );\n\nprint( f'\\nList Negative: { l4[ -3 : -1 :] }' ); #223, True",
      "metadata": {
        "trusted": true
      },
      "outputs": [
        {
          "name": "stdout",
          "text": "List Original: [7, 99.99, 'Nazmul', 223, True, 0.5]\nList Reverse: [0.5, True, 223, 'Nazmul', 99.99, 7]\n\nList Slice first: [7, 99.99, 'Nazmul', 223]\nList Slice last: [223, True, 0.5]\n\nList Negative: [223, True]\n",
          "output_type": "stream"
        }
      ],
      "execution_count": 20
    },
    {
      "cell_type": "markdown",
      "source": "# mutatable list in python",
      "metadata": {}
    },
    {
      "cell_type": "code",
      "source": "l5 = [1, 2, 3, 4, 5];\nprint(f'Original List: {l5}');\n\nl5[2] = \"Nazmul\";\nprint(f'Updated List: {l5}');",
      "metadata": {
        "trusted": true,
        "scrolled": true
      },
      "outputs": [
        {
          "name": "stdout",
          "text": "Original List: [1, 2, 3, 4, 5]\nUpdated List: [1, 2, 'Nazmul', 4, 5]\n",
          "output_type": "stream"
        }
      ],
      "execution_count": 24
    },
    {
      "cell_type": "code",
      "source": "",
      "metadata": {
        "trusted": true
      },
      "outputs": [],
      "execution_count": null
    },
    {
      "cell_type": "code",
      "source": "",
      "metadata": {
        "trusted": true
      },
      "outputs": [],
      "execution_count": null
    }
  ]
}