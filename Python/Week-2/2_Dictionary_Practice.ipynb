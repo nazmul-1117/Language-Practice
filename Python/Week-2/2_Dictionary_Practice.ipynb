{
  "nbformat": 4,
  "nbformat_minor": 0,
  "metadata": {
    "colab": {
      "provenance": []
    },
    "kernelspec": {
      "name": "python3",
      "display_name": "Python 3"
    },
    "language_info": {
      "name": "python"
    }
  },
  "cells": [
    {
      "cell_type": "markdown",
      "source": [
        "# Dictionary Practice"
      ],
      "metadata": {
        "id": "rqxbM8Igv2F9"
      }
    },
    {
      "cell_type": "markdown",
      "source": [
        "# Dictionary Practice\n",
        "\n",
        "\n"
      ],
      "metadata": {
        "id": "oCinOMZYuvGX"
      }
    },
    {
      "cell_type": "markdown",
      "source": [
        "# 1 Merge 3 dictionary"
      ],
      "metadata": {
        "id": "QKorXvPTw5ix"
      }
    },
    {
      "cell_type": "code",
      "source": [
        "d1 ={\n",
        "    1 : 10,\n",
        "    2 : 20,\n",
        "    3 : 30\n",
        "}\n",
        "\n",
        "d2 ={\n",
        "    4 : 40,\n",
        "    5 : 50,\n",
        "    6 : 60\n",
        "}\n",
        "\n",
        "d3 ={\n",
        "    7 : 70,\n",
        "    8 : 80,\n",
        "    9 : 90\n",
        "}\n",
        "\n",
        "print(f\"Dictoray 1: {d1}\")\n",
        "print(f\"Dictoray 2: {d2}\")\n",
        "print(f\"Dictoray 3: {d3}\")\n",
        "\n",
        "d4 = {**d1, **d2, **d3}\n",
        "print(f\"Merged Dictionary: {d4}\")\n",
        "\n",
        "d5 = {}\n",
        "\n",
        "for i in (d1, d2, d3):\n",
        "    d5.update(i)\n",
        "\n",
        "print(f\"Merged Dictionary: {d5}\")\n"
      ],
      "metadata": {
        "id": "SnX27zN0uuOc",
        "colab": {
          "base_uri": "https://localhost:8080/"
        },
        "outputId": "314dcb96-c022-43e5-e7c2-d81bb0d57264"
      },
      "execution_count": 1,
      "outputs": [
        {
          "output_type": "stream",
          "name": "stdout",
          "text": [
            "Dictoray 1: {1: 10, 2: 20, 3: 30}\n",
            "Dictoray 2: {4: 40, 5: 50, 6: 60}\n",
            "Dictoray 3: {7: 70, 8: 80, 9: 90}\n",
            "Merged Dictionary: {1: 10, 2: 20, 3: 30, 4: 40, 5: 50, 6: 60, 7: 70, 8: 80, 9: 90}\n",
            "Merged Dictionary: {1: 10, 2: 20, 3: 30, 4: 40, 5: 50, 6: 60, 7: 70, 8: 80, 9: 90}\n"
          ]
        }
      ]
    },
    {
      "cell_type": "code",
      "source": [],
      "metadata": {
        "id": "TSUy9HCPxeyA"
      },
      "execution_count": 1,
      "outputs": []
    }
  ]
}